{
 "cells": [
  {
   "cell_type": "markdown",
   "id": "bffe0682-c816-4d6b-88f3-a0afcb5b8b0e",
   "metadata": {},
   "source": [
    "# Texte, Données Binaires & Fichiers"
   ]
  },
  {
   "cell_type": "code",
   "execution_count": 1,
   "id": "933957f3-fd9e-4c01-802f-6beab3f7515e",
   "metadata": {},
   "outputs": [],
   "source": [
    "text = \"Hello world!\""
   ]
  },
  {
   "cell_type": "code",
   "execution_count": 2,
   "id": "46b5963b-eb51-4e7f-a0c2-cc2593535986",
   "metadata": {},
   "outputs": [],
   "source": [
    "text = \"Hello Sébastien ❤️\""
   ]
  },
  {
   "cell_type": "code",
   "execution_count": 3,
   "id": "091f03ba-7698-4abb-99fd-b05b384677d5",
   "metadata": {},
   "outputs": [
    {
     "name": "stdout",
     "output_type": "stream",
     "text": [
      "Hello Sébastien ❤️\n"
     ]
    }
   ],
   "source": [
    "print(text)"
   ]
  },
  {
   "cell_type": "code",
   "execution_count": 4,
   "id": "a9f291be-768e-42d9-bb18-6a75e98898b3",
   "metadata": {},
   "outputs": [
    {
     "data": {
      "text/plain": [
       "b'\\x00ANc\\xff'"
      ]
     },
     "execution_count": 4,
     "metadata": {},
     "output_type": "execute_result"
    }
   ],
   "source": [
    "bytes([0, 65, 78, 99, 255])"
   ]
  },
  {
   "cell_type": "code",
   "execution_count": 12,
   "id": "753dd403-3058-44d2-8368-8275785d0dba",
   "metadata": {},
   "outputs": [
    {
     "data": {
      "text/plain": [
       "b'Hello world!'"
      ]
     },
     "execution_count": 12,
     "metadata": {},
     "output_type": "execute_result"
    }
   ],
   "source": [
    "b\"Hello world!\""
   ]
  },
  {
   "cell_type": "code",
   "execution_count": 6,
   "id": "aef42da6-f093-45bf-97d8-245ca120ec12",
   "metadata": {},
   "outputs": [
    {
     "data": {
      "text/plain": [
       "bytes"
      ]
     },
     "execution_count": 6,
     "metadata": {},
     "output_type": "execute_result"
    }
   ],
   "source": [
    "type(b\"Hello world!\")"
   ]
  },
  {
   "cell_type": "code",
   "execution_count": 7,
   "id": "4ec94621-d37e-4218-b96f-81b9e778a4bd",
   "metadata": {},
   "outputs": [
    {
     "data": {
      "text/plain": [
       "str"
      ]
     },
     "execution_count": 7,
     "metadata": {},
     "output_type": "execute_result"
    }
   ],
   "source": [
    "type(\"Hello world!\")"
   ]
  },
  {
   "cell_type": "code",
   "execution_count": 8,
   "id": "f3922c07-1954-492d-81e2-db0e1eaaee5e",
   "metadata": {},
   "outputs": [
    {
     "ename": "SyntaxError",
     "evalue": "bytes can only contain ASCII literal characters (2359990107.py, line 1)",
     "output_type": "error",
     "traceback": [
      "\u001b[0;36m  Cell \u001b[0;32mIn[8], line 1\u001b[0;36m\u001b[0m\n\u001b[0;31m    b\"Sébastien\"\u001b[0m\n\u001b[0m    ^\u001b[0m\n\u001b[0;31mSyntaxError\u001b[0m\u001b[0;31m:\u001b[0m bytes can only contain ASCII literal characters\n"
     ]
    }
   ],
   "source": [
    "b\"Sébastien\""
   ]
  },
  {
   "cell_type": "code",
   "execution_count": 9,
   "id": "e7af7613-ee54-4a7e-9bfd-d37f46d44a8c",
   "metadata": {},
   "outputs": [
    {
     "data": {
      "text/plain": [
       "b'Sebastien'"
      ]
     },
     "execution_count": 9,
     "metadata": {},
     "output_type": "execute_result"
    }
   ],
   "source": [
    "b\"Sebastien\""
   ]
  },
  {
   "cell_type": "code",
   "execution_count": 2,
   "id": "a9d0beb8-b7e2-43cf-a318-f021463f85db",
   "metadata": {},
   "outputs": [
    {
     "name": "stdout",
     "output_type": "stream",
     "text": [
      "S\n",
      "e\n",
      "b\n",
      "a\n",
      "s\n",
      "t\n",
      "i\n",
      "e\n",
      "n\n"
     ]
    }
   ],
   "source": [
    "for b in \"Sebastien\":\n",
    "    print(b)"
   ]
  },
  {
   "cell_type": "code",
   "execution_count": 11,
   "id": "af3c3adb-e2d2-456b-a987-63bff9c1ca64",
   "metadata": {},
   "outputs": [
    {
     "ename": "SyntaxError",
     "evalue": "bytes can only contain ASCII literal characters (2233974367.py, line 1)",
     "output_type": "error",
     "traceback": [
      "\u001b[0;36m  Cell \u001b[0;32mIn[11], line 1\u001b[0;36m\u001b[0m\n\u001b[0;31m    b\"❤️\"\u001b[0m\n\u001b[0m    ^\u001b[0m\n\u001b[0;31mSyntaxError\u001b[0m\u001b[0;31m:\u001b[0m bytes can only contain ASCII literal characters\n"
     ]
    }
   ],
   "source": [
    "b\"❤️\""
   ]
  },
  {
   "cell_type": "code",
   "execution_count": 3,
   "id": "013e024f-daff-49db-b67c-2da7a9679ec6",
   "metadata": {},
   "outputs": [
    {
     "data": {
      "text/plain": [
       "str"
      ]
     },
     "execution_count": 3,
     "metadata": {},
     "output_type": "execute_result"
    }
   ],
   "source": [
    "type(\"🎄\")"
   ]
  },
  {
   "cell_type": "code",
   "execution_count": 13,
   "id": "8e96382e-84f4-4283-8afd-b2436027f9a5",
   "metadata": {},
   "outputs": [
    {
     "data": {
      "text/plain": [
       "83"
      ]
     },
     "execution_count": 13,
     "metadata": {},
     "output_type": "execute_result"
    }
   ],
   "source": [
    "ord(\"S\")"
   ]
  },
  {
   "cell_type": "code",
   "execution_count": 14,
   "id": "e10af950-e3c1-4319-835e-f5f82640d7bd",
   "metadata": {},
   "outputs": [
    {
     "data": {
      "text/plain": [
       "'S'"
      ]
     },
     "execution_count": 14,
     "metadata": {},
     "output_type": "execute_result"
    }
   ],
   "source": [
    "chr(83)"
   ]
  },
  {
   "cell_type": "code",
   "execution_count": 16,
   "id": "eb3f4dab-2415-4720-b3bb-bf7f866d0f7e",
   "metadata": {},
   "outputs": [
    {
     "ename": "TypeError",
     "evalue": "ord() expected a character, but string of length 2 found",
     "output_type": "error",
     "traceback": [
      "\u001b[0;31m---------------------------------------------------------------------------\u001b[0m",
      "\u001b[0;31mTypeError\u001b[0m                                 Traceback (most recent call last)",
      "Cell \u001b[0;32mIn[16], line 1\u001b[0m\n\u001b[0;32m----> 1\u001b[0m \u001b[38;5;28;43mord\u001b[39;49m\u001b[43m(\u001b[49m\u001b[38;5;124;43m\"\u001b[39;49m\u001b[38;5;124;43m❤️\u001b[39;49m\u001b[38;5;124;43m\"\u001b[39;49m\u001b[43m)\u001b[49m\n",
      "\u001b[0;31mTypeError\u001b[0m: ord() expected a character, but string of length 2 found"
     ]
    }
   ],
   "source": [
    "ord(\"❤️\")"
   ]
  },
  {
   "cell_type": "code",
   "execution_count": 17,
   "id": "fd3cf2ef-fb4b-404e-b246-f03aea0babbf",
   "metadata": {},
   "outputs": [
    {
     "data": {
      "text/plain": [
       "'Hello Sébastien ❤️'"
      ]
     },
     "execution_count": 17,
     "metadata": {},
     "output_type": "execute_result"
    }
   ],
   "source": [
    "text"
   ]
  },
  {
   "cell_type": "code",
   "execution_count": 30,
   "id": "9a587c38-af73-455d-87f4-f214a2cfd019",
   "metadata": {},
   "outputs": [
    {
     "data": {
      "text/plain": [
       "b'Hello S\\xc3\\xa9bastien \\xe2\\x9d\\xa4\\xef\\xb8\\x8f'"
      ]
     },
     "execution_count": 30,
     "metadata": {},
     "output_type": "execute_result"
    }
   ],
   "source": [
    "raw_data = text.encode(\"utf-8\")\n",
    "raw_data"
   ]
  },
  {
   "cell_type": "code",
   "execution_count": 31,
   "id": "063fb11d-1601-4145-9276-a7d89f05a220",
   "metadata": {},
   "outputs": [
    {
     "data": {
      "text/plain": [
       "'Hello Sébastien ❤️'"
      ]
     },
     "execution_count": 31,
     "metadata": {},
     "output_type": "execute_result"
    }
   ],
   "source": [
    "text_recup = raw_data.decode(\"utf-8\")\n",
    "text_recup"
   ]
  },
  {
   "cell_type": "code",
   "execution_count": 32,
   "id": "6fb000e8-63cd-4293-ae53-06ebd1edf896",
   "metadata": {},
   "outputs": [
    {
     "data": {
      "text/plain": [
       "'Hello SÃ©bastien â\\x9d¤ï¸\\x8f'"
      ]
     },
     "execution_count": 32,
     "metadata": {},
     "output_type": "execute_result"
    }
   ],
   "source": [
    "text_recup = raw_data.decode(\"latin-1\")\n",
    "text_recup"
   ]
  },
  {
   "cell_type": "code",
   "execution_count": 33,
   "id": "3e5d1ec8-760b-43b2-851e-79f05b07b333",
   "metadata": {},
   "outputs": [],
   "source": [
    "file = open(\"message.txt\", mode=\"bw\") # accès binaire, en écriture"
   ]
  },
  {
   "cell_type": "code",
   "execution_count": 34,
   "id": "cd767c1b-590b-4f1f-9a4b-5ab3d2598f51",
   "metadata": {},
   "outputs": [
    {
     "data": {
      "text/plain": [
       "23"
      ]
     },
     "execution_count": 34,
     "metadata": {},
     "output_type": "execute_result"
    }
   ],
   "source": [
    "file.write(raw_data)"
   ]
  },
  {
   "cell_type": "code",
   "execution_count": 35,
   "id": "362f99df-c561-4755-ba15-6584b34477ad",
   "metadata": {},
   "outputs": [],
   "source": [
    "file.close()"
   ]
  },
  {
   "cell_type": "code",
   "execution_count": 37,
   "id": "38d07e61-62e9-4554-b8d4-4e2d73445125",
   "metadata": {},
   "outputs": [
    {
     "name": "stdout",
     "output_type": "stream",
     "text": [
      "/home/boisgera/tmp/notebook\n"
     ]
    }
   ],
   "source": [
    "!pwd"
   ]
  },
  {
   "cell_type": "code",
   "execution_count": 38,
   "id": "fc7fa556-b183-4fac-aee4-4d9d97551a11",
   "metadata": {},
   "outputs": [],
   "source": [
    "file = open(\"message.txt\", mode=\"br\") # lecture de données binaires"
   ]
  },
  {
   "cell_type": "code",
   "execution_count": 39,
   "id": "7538d80b-db3f-48cb-9544-0a4e7e481add",
   "metadata": {},
   "outputs": [
    {
     "data": {
      "text/plain": [
       "b'Hello S\\xc3\\xa9bastien \\xe2\\x9d\\xa4\\xef\\xb8\\x8f'"
      ]
     },
     "execution_count": 39,
     "metadata": {},
     "output_type": "execute_result"
    }
   ],
   "source": [
    "message_brut = file.read()\n",
    "message_brut"
   ]
  },
  {
   "cell_type": "code",
   "execution_count": 40,
   "id": "95e0dc52-7396-4a47-9584-e3c193dd6ed5",
   "metadata": {},
   "outputs": [
    {
     "data": {
      "text/plain": [
       "'Hello Sébastien ❤️'"
      ]
     },
     "execution_count": 40,
     "metadata": {},
     "output_type": "execute_result"
    }
   ],
   "source": [
    "message_brut.decode(\"utf-8\")"
   ]
  },
  {
   "cell_type": "code",
   "execution_count": 41,
   "id": "c5a8786e-6e59-4c7a-9369-3eaa55aaea90",
   "metadata": {},
   "outputs": [],
   "source": [
    "file.close()"
   ]
  },
  {
   "cell_type": "code",
   "execution_count": 42,
   "id": "21c09bec-a5bc-48da-862a-c4cfe0cb3dbe",
   "metadata": {},
   "outputs": [
    {
     "data": {
      "text/plain": [
       "'Hello Sébastien ❤️'"
      ]
     },
     "execution_count": 42,
     "metadata": {},
     "output_type": "execute_result"
    }
   ],
   "source": [
    "file = open(\"message.txt\", mode=\"tr\", encoding=\"utf-8\")\n",
    "file.read()"
   ]
  },
  {
   "cell_type": "code",
   "execution_count": 43,
   "id": "68dcd672-8b92-4cb0-b512-58bdf35cd90e",
   "metadata": {},
   "outputs": [],
   "source": [
    "file.close()"
   ]
  },
  {
   "cell_type": "code",
   "execution_count": 44,
   "id": "6746fe12-eadd-4d97-a78b-28d2004bc8c1",
   "metadata": {},
   "outputs": [],
   "source": [
    "file = open(\"message-2.txt\", mode=\"tw\", encoding=\"utf-8\")"
   ]
  },
  {
   "cell_type": "code",
   "execution_count": 45,
   "id": "c6e75630-e48a-443c-b2b7-4dcc1a92d34b",
   "metadata": {},
   "outputs": [
    {
     "data": {
      "text/plain": [
       "18"
      ]
     },
     "execution_count": 45,
     "metadata": {},
     "output_type": "execute_result"
    }
   ],
   "source": [
    "file.write('Hello Sébastien ❤️')"
   ]
  },
  {
   "cell_type": "code",
   "execution_count": 46,
   "id": "78ce6770-db04-4563-bd7a-897e58e24857",
   "metadata": {},
   "outputs": [],
   "source": [
    "file.close()"
   ]
  },
  {
   "cell_type": "code",
   "execution_count": 47,
   "id": "9df5e777-355b-4874-b8d0-81a912f366cd",
   "metadata": {},
   "outputs": [],
   "source": [
    "file = open(\"bidon.txt\", mode=\"bw\")"
   ]
  },
  {
   "cell_type": "code",
   "execution_count": 48,
   "id": "67d097b8-7a7b-473f-a248-b259720fd0d5",
   "metadata": {},
   "outputs": [
    {
     "data": {
      "text/plain": [
       "6"
      ]
     },
     "execution_count": 48,
     "metadata": {},
     "output_type": "execute_result"
    }
   ],
   "source": [
    "file.write(b\"Hello!\")"
   ]
  },
  {
   "cell_type": "code",
   "execution_count": 49,
   "id": "af9078e9-11ad-477f-aa4d-482fe2fa2aa7",
   "metadata": {},
   "outputs": [],
   "source": [
    "with open(\"tata.txt\", mode=\"bw\") as file:\n",
    "    file.write(b\"toto\")"
   ]
  },
  {
   "cell_type": "code",
   "execution_count": 50,
   "id": "8b27cf99-da66-4891-870d-2e9790ff8995",
   "metadata": {},
   "outputs": [],
   "source": [
    "image = open(\"image.png\", mode=\"rb\").read()"
   ]
  },
  {
   "cell_type": "code",
   "execution_count": 53,
   "id": "4b0e60e4-0f00-48cc-8e1b-e80aed4f7f4f",
   "metadata": {},
   "outputs": [
    {
     "data": {
      "text/plain": [
       "b'\\x89PNG\\r\\n\\x1a\\n\\x00\\x00\\x00\\rIHDR\\x00\\x00\\x06@\\x00\\x00\\x03\\x84\\x08\\x06\\x00\\x00\\x00\\xf9M\\xfd\\xa2\\x00\\x00\\x00\\xc4zTXtRaw profile type exif\\x00\\x00x\\xdamPA\\x0e\\x03!\\x08\\xbc\\xfb\\x8a>\\x01\\x18t\\xf19\\xb6\\xbbM\\xfa\\x83>\\xbf(n\\xb2\\xb6\\x9d\\xc4a\\x04\\x1d\\x91t'"
      ]
     },
     "execution_count": 53,
     "metadata": {},
     "output_type": "execute_result"
    }
   ],
   "source": [
    "image[0:100]"
   ]
  },
  {
   "cell_type": "code",
   "execution_count": 54,
   "id": "7d12b247-8cb3-4dad-9442-cf9e18d0ef33",
   "metadata": {},
   "outputs": [
    {
     "ename": "UnicodeDecodeError",
     "evalue": "'utf-8' codec can't decode byte 0x89 in position 0: invalid start byte",
     "output_type": "error",
     "traceback": [
      "\u001b[0;31m---------------------------------------------------------------------------\u001b[0m",
      "\u001b[0;31mUnicodeDecodeError\u001b[0m                        Traceback (most recent call last)",
      "Cell \u001b[0;32mIn[54], line 1\u001b[0m\n\u001b[0;32m----> 1\u001b[0m image \u001b[38;5;241m=\u001b[39m \u001b[38;5;28;43mopen\u001b[39;49m\u001b[43m(\u001b[49m\u001b[38;5;124;43m\"\u001b[39;49m\u001b[38;5;124;43mimage.png\u001b[39;49m\u001b[38;5;124;43m\"\u001b[39;49m\u001b[43m,\u001b[49m\u001b[43m \u001b[49m\u001b[43mmode\u001b[49m\u001b[38;5;241;43m=\u001b[39;49m\u001b[38;5;124;43m\"\u001b[39;49m\u001b[38;5;124;43mtr\u001b[39;49m\u001b[38;5;124;43m\"\u001b[39;49m\u001b[43m,\u001b[49m\u001b[43m \u001b[49m\u001b[43mencoding\u001b[49m\u001b[38;5;241;43m=\u001b[39;49m\u001b[38;5;124;43m\"\u001b[39;49m\u001b[38;5;124;43mutf-8\u001b[39;49m\u001b[38;5;124;43m\"\u001b[39;49m\u001b[43m)\u001b[49m\u001b[38;5;241;43m.\u001b[39;49m\u001b[43mread\u001b[49m\u001b[43m(\u001b[49m\u001b[43m)\u001b[49m\n",
      "File \u001b[0;32m<frozen codecs>:322\u001b[0m, in \u001b[0;36mdecode\u001b[0;34m(self, input, final)\u001b[0m\n",
      "\u001b[0;31mUnicodeDecodeError\u001b[0m: 'utf-8' codec can't decode byte 0x89 in position 0: invalid start byte"
     ]
    }
   ],
   "source": [
    "image = open(\"image.png\", mode=\"tr\", encoding=\"utf-8\").read()"
   ]
  },
  {
   "cell_type": "code",
   "execution_count": 4,
   "id": "2c6629ba-39e0-4013-99a4-24bd26d17726",
   "metadata": {},
   "outputs": [],
   "source": [
    "#open(\"draw.tldr\", mode=\"rb\").read()"
   ]
  },
  {
   "cell_type": "code",
   "execution_count": 5,
   "id": "cbd68afc-d144-4518-8ebe-212ac00d0f98",
   "metadata": {},
   "outputs": [],
   "source": [
    "#open(\"draw.tldr\", mode=\"tr\", encoding=\"ascii\").read()"
   ]
  },
  {
   "cell_type": "code",
   "execution_count": 58,
   "id": "a00c32f4-ab24-408f-b7cf-e8ba605d3d46",
   "metadata": {},
   "outputs": [
    {
     "data": {
      "text/plain": [
       "b'{\\n \"cells\": [\\n  {\\n   \"cell_type\": \"markdown\",\\n   \"id\": \"bffe0682-c816-4d6b-88f3-a0afcb5b8b0e\",\\n   \"m'"
      ]
     },
     "execution_count": 58,
     "metadata": {},
     "output_type": "execute_result"
    }
   ],
   "source": [
    "notebook = open(\"Untitled.ipynb\", mode=\"rb\").read()\n",
    "notebook[0:100]"
   ]
  },
  {
   "cell_type": "code",
   "execution_count": 12,
   "id": "f92370e6-5992-4b3f-b4a8-18c4d30c97ae",
   "metadata": {},
   "outputs": [
    {
     "name": "stdout",
     "output_type": "stream",
     "text": [
      "{\n",
      " \"cells\": [\n",
      "  {\n",
      "   \"cell_type\": \"markdown\",\n",
      "   \"id\": \"bffe0682-c816-4d6b-88f3-a0afcb5b8b0e\",\n",
      "   \"metadata\": {},\n",
      "   \"source\": [\n",
      "    \"# Texte, Données Binaires & Fichiers\"\n",
      "   ]\n",
      "  },\n",
      "  {\n",
      "   \"cell_type\": \"code\",\n",
      "   \"execution_count\": 1,\n",
      "   \"id\": \"933957f3-fd9e-4c01-802f-6beab3f7515e\",\n",
      "   \"metadata\": {},\n",
      "   \"outputs\": [],\n",
      "   \"source\": [\n",
      "    \"text = \\\"Hello world!\\\"\"\n",
      "   ]\n",
      "  },\n",
      "  {\n",
      "   \"cell_type\": \"code\",\n",
      "   \"execution_count\": 2,\n",
      "   \"id\": \"46b5963b-eb51-4e7f-a0c2-cc2593535986\",\n",
      "   \"metadata\": {},\n",
      "   \"outputs\": [],\n",
      "   \"source\": [\n",
      "    \"text = \\\"Hello Sébastien ❤️\\\"\"\n",
      "   ]\n",
      "  },\n",
      "  {\n",
      "   \"cell_type\": \"code\",\n",
      "   \"execution_count\": 3,\n",
      "   \"id\": \"091f03ba-7698-4abb-99fd-b05b384677d5\",\n",
      "   \"metadata\": {},\n",
      "   \"outputs\": [\n",
      "    {\n",
      "     \"name\": \"stdout\",\n",
      "     \"output_type\": \"stream\",\n",
      "     \"text\": [\n",
      "      \"Hello Sébastien ❤️\\n\"\n",
      "     ]\n",
      "    }\n",
      "   ],\n",
      "   \"source\": [\n",
      "    \"print(text)\"\n",
      "   ]\n",
      "  },\n",
      "  {\n",
      "   \"cell_type\": \"code\",\n",
      "   \"execution_count\": 4,\n",
      "   \"id\": \"a9f291be-768e-42d9-bb18-6a75e98898b3\",\n",
      "   \"metadata\": {},\n",
      " \n"
     ]
    }
   ],
   "source": [
    "notebook = open(\"Cours.ipynb\", mode=\"rt\", encoding=\"utf-8\").read()\n",
    "print(notebook[0:1000]) # JSON!"
   ]
  },
  {
   "cell_type": "code",
   "execution_count": 14,
   "id": "1a89ecb3-3fca-464e-b13e-d20e93ba1e00",
   "metadata": {},
   "outputs": [
    {
     "data": {
      "text/plain": [
       "dict"
      ]
     },
     "execution_count": 14,
     "metadata": {},
     "output_type": "execute_result"
    }
   ],
   "source": [
    "import json\n",
    "nb = json.loads(notebook)\n",
    "type(nb)"
   ]
  },
  {
   "cell_type": "code",
   "execution_count": null,
   "id": "8dfb44db-5bd7-409a-b2fe-a85ad7fd5556",
   "metadata": {},
   "outputs": [],
   "source": []
  },
  {
   "cell_type": "code",
   "execution_count": 15,
   "id": "c124a43a-baff-4bd3-a9b6-3ee8de564ea3",
   "metadata": {},
   "outputs": [
    {
     "data": {
      "text/plain": [
       "{'cell_type': 'markdown',\n",
       " 'id': 'bffe0682-c816-4d6b-88f3-a0afcb5b8b0e',\n",
       " 'metadata': {},\n",
       " 'source': ['# Texte, Données Binaires & Fichiers']}"
      ]
     },
     "execution_count": 15,
     "metadata": {},
     "output_type": "execute_result"
    }
   ],
   "source": [
    "nb[\"cells\"][0]"
   ]
  },
  {
   "cell_type": "code",
   "execution_count": 19,
   "id": "0321c9f8-b817-458c-9ad3-fbea7dcf503a",
   "metadata": {},
   "outputs": [
    {
     "data": {
      "text/plain": [
       "['cells', 'metadata', 'nbformat', 'nbformat_minor']"
      ]
     },
     "execution_count": 19,
     "metadata": {},
     "output_type": "execute_result"
    }
   ],
   "source": [
    "list(nb.keys())"
   ]
  },
  {
   "cell_type": "code",
   "execution_count": 68,
   "id": "24a849ac-07c2-45cc-b2d3-2738999c3c52",
   "metadata": {},
   "outputs": [
    {
     "data": {
      "text/plain": [
       "(4, 5)"
      ]
     },
     "execution_count": 68,
     "metadata": {},
     "output_type": "execute_result"
    }
   ],
   "source": [
    "nb[\"nbformat\"], nb[\"nbformat_minor\"]"
   ]
  },
  {
   "cell_type": "code",
   "execution_count": 69,
   "id": "e66a8551-9cc6-40c7-b854-7c69d0d8f35e",
   "metadata": {},
   "outputs": [
    {
     "data": {
      "text/plain": [
       "{'kernelspec': {'display_name': 'Python 3 (ipykernel)',\n",
       "  'language': 'python',\n",
       "  'name': 'python3'},\n",
       " 'language_info': {'codemirror_mode': {'name': 'ipython', 'version': 3},\n",
       "  'file_extension': '.py',\n",
       "  'mimetype': 'text/x-python',\n",
       "  'name': 'python',\n",
       "  'nbconvert_exporter': 'python',\n",
       "  'pygments_lexer': 'ipython3',\n",
       "  'version': '3.12.0'}}"
      ]
     },
     "execution_count": 69,
     "metadata": {},
     "output_type": "execute_result"
    }
   ],
   "source": [
    "nb[\"metadata\"]"
   ]
  },
  {
   "cell_type": "code",
   "execution_count": 6,
   "id": "385f7e43-3266-4295-8dcd-764ac073bcf5",
   "metadata": {},
   "outputs": [
    {
     "ename": "IndentationError",
     "evalue": "unexpected indent (1741254851.py, line 2)",
     "output_type": "error",
     "traceback": [
      "\u001b[1;36m  Cell \u001b[1;32mIn[6], line 2\u001b[1;36m\u001b[0m\n\u001b[1;33m    if cell[\"cell_type\"] == \"code\":\u001b[0m\n\u001b[1;37m    ^\u001b[0m\n\u001b[1;31mIndentationError\u001b[0m\u001b[1;31m:\u001b[0m unexpected indent\n"
     ]
    }
   ],
   "source": [
    "#for cell in nb[\"cells\"]:\n",
    "    if cell[\"cell_type\"] == \"code\":\n",
    "        print(cell)"
   ]
  },
  {
   "cell_type": "code",
   "execution_count": 7,
   "id": "4f88d661-46eb-452f-bc96-84631de62941",
   "metadata": {},
   "outputs": [],
   "source": [
    "#json.dumps(nb)"
   ]
  },
  {
   "cell_type": "code",
   "execution_count": 74,
   "id": "e897186b-9e50-4ef3-91c7-15c856127ace",
   "metadata": {},
   "outputs": [
    {
     "data": {
      "text/plain": [
       "\"{'a': None}\""
      ]
     },
     "execution_count": 74,
     "metadata": {},
     "output_type": "execute_result"
    }
   ],
   "source": [
    "str({\"a\": None})"
   ]
  },
  {
   "cell_type": "code",
   "execution_count": 75,
   "id": "d62e2a56-de7c-4992-96e9-cbb7a769660a",
   "metadata": {},
   "outputs": [
    {
     "data": {
      "text/plain": [
       "'{\"a\": null}'"
      ]
     },
     "execution_count": 75,
     "metadata": {},
     "output_type": "execute_result"
    }
   ],
   "source": [
    "json.dumps({\"a\": None})"
   ]
  },
  {
   "cell_type": "code",
   "execution_count": 9,
   "id": "e46cebff-a644-4db5-9dfb-cc6f9fb33908",
   "metadata": {},
   "outputs": [
    {
     "ename": "NameError",
     "evalue": "name 'json' is not defined",
     "output_type": "error",
     "traceback": [
      "\u001b[1;31m---------------------------------------------------------------------------\u001b[0m",
      "\u001b[1;31mNameError\u001b[0m                                 Traceback (most recent call last)",
      "Cell \u001b[1;32mIn[9], line 1\u001b[0m\n\u001b[1;32m----> 1\u001b[0m help(\u001b[43mjson\u001b[49m\u001b[38;5;241m.\u001b[39mloads)\n",
      "\u001b[1;31mNameError\u001b[0m: name 'json' is not defined"
     ]
    }
   ],
   "source": [
    "help(json.loads)"
   ]
  },
  {
   "cell_type": "code",
   "execution_count": 4,
   "id": "b18cb766-ec9c-45d4-b669-706668dcc385",
   "metadata": {},
   "outputs": [],
   "source": [
    "planet = {\n",
    "    'name': 'Earth',\n",
    "    'moons': 1\n",
    "}"
   ]
  },
  {
   "cell_type": "code",
   "execution_count": 5,
   "id": "d2f2dadc-6b1c-4607-937b-4f0151b1a144",
   "metadata": {},
   "outputs": [
    {
     "name": "stdout",
     "output_type": "stream",
     "text": [
      "Earth\n"
     ]
    }
   ],
   "source": [
    "print(planet['name'])"
   ]
  },
  {
   "cell_type": "code",
   "execution_count": 6,
   "id": "57361ed6-669b-4ddd-91ae-3ac3112355ab",
   "metadata": {},
   "outputs": [
    {
     "name": "stdout",
     "output_type": "stream",
     "text": [
      "Makemake\n"
     ]
    }
   ],
   "source": [
    "planet.update({'name': 'Makemake'})\n",
    "print(planet['name'])\n",
    "# No output: name is now set to Makemake."
   ]
  },
  {
   "cell_type": "code",
   "execution_count": null,
   "id": "27be3c56-d579-4a60-85d0-14121fefd0e9",
   "metadata": {},
   "outputs": [],
   "source": []
  },
  {
   "cell_type": "code",
   "execution_count": 3,
   "id": "8cc5cd08-96a7-4ddb-af5a-f5df74bab832",
   "metadata": {},
   "outputs": [
    {
     "name": "stdout",
     "output_type": "stream",
     "text": [
      "Mars\n"
     ]
    }
   ],
   "source": [
    "planet['name'] = \"Mars\"\n",
    "print(planet['name'])"
   ]
  },
  {
   "cell_type": "code",
   "execution_count": 7,
   "id": "76aaa930-fd41-4865-b7ce-84b834ae36f0",
   "metadata": {},
   "outputs": [],
   "source": [
    "planet.update({\n",
    "    'name': 'Jupiter',\n",
    "    'moons': 79\n",
    "})"
   ]
  },
  {
   "cell_type": "code",
   "execution_count": 8,
   "id": "8da831f8-3975-4bbf-8465-10242b0eed22",
   "metadata": {},
   "outputs": [
    {
     "data": {
      "text/plain": [
       "'Jupiter'"
      ]
     },
     "execution_count": 8,
     "metadata": {},
     "output_type": "execute_result"
    }
   ],
   "source": [
    "planet['name']"
   ]
  },
  {
   "cell_type": "code",
   "execution_count": null,
   "id": "9995c66a-ce39-4f90-960a-709a135c031d",
   "metadata": {},
   "outputs": [],
   "source": []
  }
 ],
 "metadata": {
  "kernelspec": {
   "display_name": "Python 3 (ipykernel)",
   "language": "python",
   "name": "python3"
  },
  "language_info": {
   "codemirror_mode": {
    "name": "ipython",
    "version": 3
   },
   "file_extension": ".py",
   "mimetype": "text/x-python",
   "name": "python",
   "nbconvert_exporter": "python",
   "pygments_lexer": "ipython3",
   "version": "3.11.5"
  }
 },
 "nbformat": 4,
 "nbformat_minor": 5
}
