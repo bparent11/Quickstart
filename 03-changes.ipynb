{
 "cells": [
  {
   "cell_type": "markdown",
   "metadata": {},
   "source": [
    "---\n",
    "title: Tracking Changes\n",
    "date: 2023-11-30 \n",
    "authors:\n",
    "  - name: Sébastien Boisgérault\n",
    "    email: Sebastien.Boisgerault@minesparis.psl.eu\n",
    "    url: https://github.com/boisgera\n",
    "    affiliations:\n",
    "      - institution: Mines Paris - PSL University\n",
    "        department: Institut des Transformation Numériques (ITN)\n",
    "github: boisgera\n",
    "license: CC-BY-4.0\n",
    "open_access: true\n",
    "---"
   ]
  },
  {
   "cell_type": "markdown",
   "metadata": {},
   "source": [
    "In order to understand how `.tldr` files are structured, we can add a new graphical objects, change some of their properties, etc. and each time we modify the document, analyze the corresponding evolution of the file.\n",
    "\n",
    "In this notebook, we develop some tooling to help us track such changes."
   ]
  },
  {
   "cell_type": "markdown",
   "metadata": {},
   "source": [
    "## Text comparison"
   ]
  },
  {
   "cell_type": "markdown",
   "metadata": {},
   "source": [
    "We define two similar versions of the \"zen of Python\":"
   ]
  },
  {
   "cell_type": "code",
   "execution_count": 7,
   "metadata": {},
   "outputs": [],
   "source": [
    "zen_1 = \"\"\"The Zen of Python, by Tim Peters\n",
    "\n",
    "Beautiful is better than ugly.\n",
    "Explicit is better than implicit.\n",
    "Simple is better than complex.\n",
    "Complex is better than complicated.\n",
    "Flat is better than nested.\n",
    "Sparse is better than dense.\n",
    "Readability counts.\n",
    "Special cases aren't special enough to break the rules.\n",
    "Errors should never pass silently.\n",
    "In the face of ambiguity, refuse the temptation to guess.\n",
    "There should be one obvious way to do it.\n",
    "Although that way may not be obvious at first.\n",
    "Now is better than never.\n",
    "Although never is often better than right now.\n",
    "If the implementation is hard to explain, it's a bad idea.\n",
    "If the implementation is easy to explain, it is a good idea.\n",
    "\"\"\""
   ]
  },
  {
   "cell_type": "code",
   "execution_count": 8,
   "metadata": {},
   "outputs": [],
   "source": [
    "zen_2 = \"\"\"\\\n",
    "The Zen of Python, by Tim Peters\n",
    "\n",
    "Beautiful is better than ugly.\n",
    "Explicit is better than implicit.\n",
    "Simple is better than complex.\n",
    "Complex is better than complicated.\n",
    "Flat is better than nested.\n",
    "Sparse is better than dense.\n",
    "Readability counts.\n",
    "Special cases aren't special enough to break the rules.\n",
    "Although practicality beats purity.\n",
    "Errors should never pass silently.\n",
    "Unless explicitly silenced.\n",
    "In the face of ambiguity, refuse the temptation to guess.\n",
    "There should be one-- and preferably only one --obvious way to do it.\n",
    "Although that way may not be obvious at first unless you're Dutch.\n",
    "Now is better than never.\n",
    "Although never is often better than *right* now.\n",
    "If the implementation is hard to explain, it's a bad idea.\n",
    "If the implementation is easy to explain, it may be a good idea.\n",
    "Namespaces are one honking great idea -- let's do more of those!\n",
    "\"\"\""
   ]
  },
  {
   "cell_type": "markdown",
   "metadata": {},
   "source": [
    "```{exercise}\n",
    " 1. Transform `zen_1` and `zen_2` into list of lines.\n",
    " 2. Use the [`difflib`](https://docs.python.org/3/library/difflib.html) module of the Python standard library to [`compare`](https://docs.python.org/3/library/difflib.html#difflib.Differ.compare) the two sequences.\n",
    " 3. Make a text out of the output of compare and print it.\n",
    " 4. Interpret the result and list the differences between both versions of the zen of Python.\n",
    "```"
   ]
  },
  {
   "cell_type": "code",
   "execution_count": 9,
   "metadata": {},
   "outputs": [],
   "source": [
    "#1\n",
    "zen_1_l = zen_1.splitlines()\n",
    "zen_2_l = zen_2.splitlines()\n",
    "\n",
    "#print(zen_1_l)\n",
    "#print(zen_2_l)"
   ]
  },
  {
   "cell_type": "code",
   "execution_count": 13,
   "metadata": {},
   "outputs": [],
   "source": [
    "#2\n",
    "import difflib\n",
    "from difflib import context_diff, Differ, ndiff"
   ]
  },
  {
   "cell_type": "code",
   "execution_count": 14,
   "metadata": {},
   "outputs": [],
   "source": [
    "#help(difflib)"
   ]
  },
  {
   "cell_type": "code",
   "execution_count": 15,
   "metadata": {},
   "outputs": [
    {
     "name": "stdout",
     "output_type": "stream",
     "text": [
      "  The Zen of Python, by Tim Peters\n",
      "  \n",
      "  Beautiful is better than ugly.\n",
      "  Explicit is better than implicit.\n",
      "  Simple is better than complex.\n",
      "  Complex is better than complicated.\n",
      "  Flat is better than nested.\n",
      "  Sparse is better than dense.\n",
      "  Readability counts.\n",
      "  Special cases aren't special enough to break the rules.\n",
      "+ Although practicality beats purity.\n",
      "  Errors should never pass silently.\n",
      "+ Unless explicitly silenced.\n",
      "  In the face of ambiguity, refuse the temptation to guess.\n",
      "- There should be one obvious way to do it.\n",
      "+ There should be one-- and preferably only one --obvious way to do it.\n",
      "- Although that way may not be obvious at first.\n",
      "+ Although that way may not be obvious at first unless you're Dutch.\n",
      "?                                              ++++++++++++++++++++\n",
      "\n",
      "  Now is better than never.\n",
      "- Although never is often better than right now.\n",
      "+ Although never is often better than *right* now.\n",
      "?                                     +     +\n",
      "\n",
      "  If the implementation is hard to explain, it's a bad idea.\n",
      "- If the implementation is easy to explain, it is a good idea.\n",
      "?                                              ^^\n",
      "\n",
      "+ If the implementation is easy to explain, it may be a good idea.\n",
      "?                                              ^^^^^^\n",
      "\n",
      "+ Namespaces are one honking great idea -- let's do more of those!\n"
     ]
    }
   ],
   "source": [
    "#3\n",
    "d = difflib.Differ()\n",
    "diff = d.compare(zen_1_l,zen_2_l)\n",
    "\n",
    "lst = []\n",
    "for line in diff:\n",
    "    print(line)\n",
    "    lst.append(line)"
   ]
  },
  {
   "cell_type": "code",
   "execution_count": 16,
   "metadata": {},
   "outputs": [
    {
     "name": "stdout",
     "output_type": "stream",
     "text": [
      "10 : + Although practicality beats purity.\n",
      "12 : + Unless explicitly silenced.\n",
      "14 : - There should be one obvious way to do it.\n",
      "15 : + There should be one-- and preferably only one --obvious way to do it.\n",
      "16 : - Although that way may not be obvious at first.\n",
      "17 : + Although that way may not be obvious at first unless you're Dutch.\n",
      "18 : ?                                              ++++++++++++++++++++\n",
      "\n",
      "20 : - Although never is often better than right now.\n",
      "21 : + Although never is often better than *right* now.\n",
      "22 : ?                                     +     +\n",
      "\n",
      "24 : - If the implementation is easy to explain, it is a good idea.\n",
      "25 : ?                                              ^^\n",
      "\n",
      "26 : + If the implementation is easy to explain, it may be a good idea.\n",
      "27 : ?                                              ^^^^^^\n",
      "\n",
      "28 : + Namespaces are one honking great idea -- let's do more of those!\n"
     ]
    }
   ],
   "source": [
    "#4\n",
    "#'+' represent the lines where something has been added in zen_2_l compared to zen_1_l, and '-' when something has been erased.\n",
    "line_nb = 0\n",
    "\n",
    "for i in lst:\n",
    "    if '+' in i or '^' in i or '-' in i:\n",
    "        print(f'{line_nb} :',i)\n",
    "        line_nb += 1\n",
    "    else:\n",
    "        line_nb += 1"
   ]
  },
  {
   "cell_type": "markdown",
   "metadata": {},
   "source": [
    "We can make our job easier if we use HTML instead of plain text to visualise the differences between the two texts.\n",
    "\n",
    "\n",
    "```{exercise}\n",
    "  1. Use the [HtmlDiff](https://docs.python.org/3/library/difflib.html#difflib.HtmlDiff) class of difflib to produce a `diff.html` file that represents this difference in a HTML document.\n",
    "  2. Use the [webbrowser](https://docs.python.org/3/library/webbrowser.html) module of the standard library to open it!\n",
    "  3. Define a `display_diff_text` function that takes two arguments `text_1` and `text_2` and automates steps 1. and 2.\n",
    "```"
   ]
  },
  {
   "cell_type": "code",
   "execution_count": 17,
   "metadata": {},
   "outputs": [],
   "source": [
    "#1\n",
    "from difflib import HtmlDiff\n",
    "\n",
    "h = HtmlDiff()\n",
    "html_file = h.make_file(zen_1_l,zen_2_l)\n",
    "\n",
    "with open('docs/diff.html', mode='w') as file:\n",
    "    file.write(html_file)"
   ]
  },
  {
   "cell_type": "code",
   "execution_count": 18,
   "metadata": {},
   "outputs": [
    {
     "data": {
      "text/plain": [
       "True"
      ]
     },
     "execution_count": 18,
     "metadata": {},
     "output_type": "execute_result"
    }
   ],
   "source": [
    "#2\n",
    "import webbrowser\n",
    "\n",
    "webbrowser.open('docs/diff.html')"
   ]
  },
  {
   "cell_type": "code",
   "execution_count": 19,
   "metadata": {},
   "outputs": [],
   "source": [
    "#3\n",
    "from difflib import HtmlDiff\n",
    "import webbrowser\n",
    "\n",
    "def display_diff_text(text_1,text_2,file_path):\n",
    "    h = HtmlDiff()\n",
    "    html_file = h.make_file(text_1,text_2)\n",
    "    \n",
    "    with open(file_path, mode='w') as file:\n",
    "        file.write(html_file)\n",
    "\n",
    "    webbrowser.open(file_path)"
   ]
  },
  {
   "cell_type": "markdown",
   "metadata": {},
   "source": [
    "## Comparison of JSON documents"
   ]
  },
  {
   "cell_type": "markdown",
   "metadata": {},
   "source": [
    "````{exercise} Comparison of dictionnaries\n",
    "\n",
    " 1. Create a `display_diff` function that takes two Python objects, converts them to strings then leverages `display_diff_text` to display the difference in a browser.\n",
    "\n",
    " 2. Consider the 3 dictionaries defined by\n",
    "    ```python\n",
    "    d1 = {k:k+1 for k in range(100)}\n",
    "    d2 = d1.copy(); d2[50] = 50\n",
    "    d3 = {k:k+1 for k in range(99, -1, -1)}\n",
    "    ```\n",
    "    `d1` and `d2` have a slight difference and `d1` and `d3` are equal.\n",
    "    Does your `display_diff` function make easy to spot where the difference is in the first case when it compares `d1` and `d2`?\n",
    "    Does it make easy to see that `d1` and `d3` are equal?\n",
    "\n",
    "  3. Investigate the [`pprint`](https://docs.python.org/3/library/pprint.html) module standard library ; use it to improve the behavior of `display_text_diff` in the two cases considered in the previous question.\n",
    "\n",
    "````\n",
    " "
   ]
  },
  {
   "cell_type": "code",
   "execution_count": null,
   "metadata": {},
   "outputs": [],
   "source": []
  },
  {
   "cell_type": "code",
   "execution_count": 40,
   "metadata": {},
   "outputs": [],
   "source": [
    "#1\n",
    "def display_diff(obj_1,obj_2,file_path):\n",
    "    str1, str2 = str(obj_1), str(obj_2)\n",
    "\n",
    "    display_diff_text(str1,str2,file_path)\n",
    "\n",
    "#2\n",
    "d1 = {k:k+1 for k in range(100)}\n",
    "d2 = d1.copy(); d2[50] = 50\n",
    "d3 = {k:k+1 for k in range(99, -1, -1)}"
   ]
  },
  {
   "cell_type": "code",
   "execution_count": 41,
   "metadata": {},
   "outputs": [],
   "source": [
    "display_diff(d1,d3,'diffs_d1_d3.html')\n",
    "#If we don't take an attentive look at the file 'diffs_d1_d3.html', it seems that d1 and d3 aren't equal."
   ]
  },
  {
   "cell_type": "code",
   "execution_count": 49,
   "metadata": {},
   "outputs": [],
   "source": [
    "#3\n",
    "import pprint\n",
    "\n",
    "pp = pprint.PrettyPrinter(sort_dicts=True)\n",
    "d1s, d2s, d3s = pp.pformat(d1), pp.pformat(d2), pp.pformat(d3)"
   ]
  },
  {
   "cell_type": "code",
   "execution_count": 48,
   "metadata": {},
   "outputs": [],
   "source": [
    "display_diff(d1s,d3s,'diffs_d1s_d3s.html')"
   ]
  },
  {
   "cell_type": "markdown",
   "metadata": {},
   "source": [
    "```{exercise} tldraw documents comparator\n",
    "Implement a function `tldraw_diff` that takes as argument two filenames that refer to tldraw documents and display their differences in the browser.\n",
    "```"
   ]
  },
  {
   "cell_type": "code",
   "execution_count": 60,
   "metadata": {},
   "outputs": [],
   "source": [
    "def tldraw_diff(file_1, file_2, file_path_4_display):\n",
    "    from difflib import HtmlDiff\n",
    "    import pprint\n",
    "    import webbrowser\n",
    "    import json\n",
    "\n",
    "    f1_tldr = open(file_1, mode='r')\n",
    "    f1_py = json.loads(f1_tldr.read())\n",
    "\n",
    "    f2_tldr = open(file_2, mode='r')\n",
    "    f2_py = json.loads(f2_tldr.read())\n",
    "\n",
    "    f1pypp = pprint.PrettyPrinter(sort_dicts=True).pformat(f1_py)\n",
    "    f2pypp = pprint.PrettyPrinter(sort_dicts=True).pformat(f2_py)\n",
    "\n",
    "    \n",
    "    with open(file_path_4_display, mode='w') as show_diff:\n",
    "        html_file = HtmlDiff().make_file(f1pypp,f2pypp) #passe en html et montre les diff\n",
    "        show_diff.write(html_file) #sauvegarde le fichier\n",
    "\n",
    "    webbrowser.open(file_path_4_display)\n",
    "    "
   ]
  },
  {
   "cell_type": "code",
   "execution_count": 61,
   "metadata": {},
   "outputs": [],
   "source": [
    "tldraw_diff('hello-python.tldr','hello-tldraw.tldr','diff_tldr.html')"
   ]
  }
 ],
 "metadata": {
  "kernelspec": {
   "display_name": "Python 3 (ipykernel)",
   "language": "python",
   "name": "python3"
  },
  "language_info": {
   "codemirror_mode": {
    "name": "ipython",
    "version": 3
   },
   "file_extension": ".py",
   "mimetype": "text/x-python",
   "name": "python",
   "nbconvert_exporter": "python",
   "pygments_lexer": "ipython3",
   "version": "3.11.5"
  }
 },
 "nbformat": 4,
 "nbformat_minor": 4
}
