{
 "cells": [
  {
   "cell_type": "markdown",
   "id": "2d474a3e-274d-4bf8-95f3-2c18179877d9",
   "metadata": {},
   "source": [
    "---\n",
    "title: Getting Started\n",
    "date: 2023-11-30 \n",
    "authors:\n",
    "  - name: Sébastien Boisgérault\n",
    "    email: Sebastien.Boisgerault@minesparis.psl.eu\n",
    "    url: https://github.com/boisgera\n",
    "    affiliations:\n",
    "      - institution: Mines Paris - PSL University\n",
    "        department: Institut des Transformation Numériques (ITN)\n",
    "github: boisgera\n",
    "license: CC-BY-4.0\n",
    "open_access: true\n",
    "---"
   ]
  },
  {
   "cell_type": "markdown",
   "id": "99eb7623-348a-4873-9200-614c9be5bdb6",
   "metadata": {},
   "source": [
    "![tldraw](images/hello-tldraw.png)    "
   ]
  },
  {
   "cell_type": "markdown",
   "id": "f2cbb2bd-92e6-4c23-95b5-7996e1850533",
   "metadata": {},
   "source": [
    "# A Simple Document"
   ]
  },
  {
   "cell_type": "markdown",
   "id": "c95958ae-0e8e-40b3-9a1a-963745eda44e",
   "metadata": {},
   "source": [
    "```{exercise} Create a \"Hello tldraw!\" document\n",
    "\n",
    " 1. Download the folder of this project on your computer. \n",
    "  \n",
    " 2. Create an tldraw document that contains the text \"Hello tldraw!\" and save it on your computer.\n",
    " \n",
    " 3. Rename your tldraw document `hello-tldraw.tldr` and move it into the `docs` subfolder of the project.\n",
    "```"
   ]
  },
  {
   "cell_type": "markdown",
   "id": "f663cb6a-c804-4438-a6bb-7132a7c86332",
   "metadata": {},
   "source": [
    "Tldraw files are (utf-8-encoded) text files and therefore can be easily inspected. \n",
    "\n",
    "```{exercise} What's the format of tldraw documents?\n",
    "\n",
    "  1. Print the content of your \"Hello tldraw!\" document into this notebook.\n",
    "\n",
    "  2. The tldraw document format is a dialect of a general-purpose structured data format. \n",
    "  \n",
    "     Which one is it? (JSON, XML, CSV? something else?)\n",
    "\n",
    "```\n"
   ]
  },
  {
   "cell_type": "code",
   "execution_count": 11,
   "id": "cc44bc52-f40a-4499-8e29-a1c0a5ccc868",
   "metadata": {},
   "outputs": [
    {
     "name": "stdout",
     "output_type": "stream",
     "text": [
      "<class 'bytes'>\n"
     ]
    }
   ],
   "source": [
    "#1\n",
    "with open('docs/hello-tldraw.tldr', mode=\"rb\") as pic:\n",
    "    image = pic.read()\n",
    "    print(image)\n",
    "\n",
    "#2\n",
    "#JSON, I notice it because of the dictionary format"
   ]
  },
  {
   "cell_type": "markdown",
   "id": "a8f5e1cc-1425-4394-8d73-47640d66d298",
   "metadata": {},
   "source": [
    "\n",
    "```{exercise} Load the document\n",
    ":label: load\n",
    "\n",
    " 1. Find the Python standard library that deals with the file format use by tldraw.\n",
    "\n",
    " 2. Use it to load the tldraw document as a tree-like structure (⚠️ not as a string!).\n",
    "\n",
    " 3. Name this structure `hello`.\n",
    "\n",
    "```"
   ]
  },
  {
   "cell_type": "code",
   "execution_count": 15,
   "id": "07016759-1b9b-474f-9772-7223b4e7e1a0",
   "metadata": {},
   "outputs": [],
   "source": [
    "import tldraw as tldr"
   ]
  },
  {
   "cell_type": "code",
   "execution_count": 18,
   "id": "663ba260-5bf8-4cb2-915b-ea79326a5575",
   "metadata": {},
   "outputs": [],
   "source": [
    "#help(tldr)"
   ]
  },
  {
   "cell_type": "code",
   "execution_count": null,
   "id": "a1390fc2-9d52-44d1-8390-29b6e7b45542",
   "metadata": {},
   "outputs": [],
   "source": []
  },
  {
   "cell_type": "code",
   "execution_count": null,
   "id": "53c12f15-6896-4046-aef3-7698360240f2",
   "metadata": {},
   "outputs": [],
   "source": []
  },
  {
   "cell_type": "markdown",
   "id": "a6ce392d-b8fa-4df2-a5e1-e5c9b81dffc8",
   "metadata": {},
   "source": [
    "# Records & Shapes"
   ]
  },
  {
   "cell_type": "markdown",
   "id": "c30a7788-e59e-42ab-a5da-c43aa1bb0872",
   "metadata": {},
   "source": [
    "```{exercise} Structure\n",
    ":label:\n",
    "\n",
    " 1. Can you locate a list of \"records\" inside `doc`? Name that list `records`.\n",
    "\n",
    " 2. Records all have a type name. Can you list all of them?\n",
    "\n",
    " 3. There should be a single shape among your records. What's it's `type`?\n",
    "\n",
    " 4. Name `hello_text` this record and display it in the notebook\n",
    "\n",
    "```"
   ]
  },
  {
   "cell_type": "markdown",
   "id": "88a29de9-0fb7-4173-8f5e-29377e5e2147",
   "metadata": {},
   "source": [
    "# Edit the Document"
   ]
  },
  {
   "cell_type": "markdown",
   "id": "0e3880a5-049b-4d0a-a4aa-2678eff6406c",
   "metadata": {},
   "source": [
    "```{exercise} Text Content\n",
    "\n",
    "  1. Locate where in the `hello_text` record the text content is located.\n",
    "  \n",
    "  2. Replace \"Hello tldraw!\" with \"Hello Python!\"\n",
    "\n",
    "  3. Save the corresponding document in the directory `docs` as a `hello-python.tldr` file.\n",
    "\n",
    "  4. Load it in the tldraw editor and check that you end up with something similar to the picture below.\n",
    "\n",
    "```"
   ]
  },
  {
   "cell_type": "markdown",
   "id": "1f95f445-0b47-4cea-a53b-b8d0a8bed59f",
   "metadata": {},
   "source": [
    "![](images/hello-python.png)"
   ]
  }
 ],
 "metadata": {
  "kernelspec": {
   "display_name": "Python 3 (ipykernel)",
   "language": "python",
   "name": "python3"
  },
  "language_info": {
   "codemirror_mode": {
    "name": "ipython",
    "version": 3
   },
   "file_extension": ".py",
   "mimetype": "text/x-python",
   "name": "python",
   "nbconvert_exporter": "python",
   "pygments_lexer": "ipython3",
   "version": "3.11.5"
  }
 },
 "nbformat": 4,
 "nbformat_minor": 5
}
