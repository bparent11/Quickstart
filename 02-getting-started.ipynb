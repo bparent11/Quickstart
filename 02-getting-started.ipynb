{
 "cells": [
  {
   "cell_type": "markdown",
   "id": "2d474a3e-274d-4bf8-95f3-2c18179877d9",
   "metadata": {},
   "source": [
    "---\n",
    "title: Getting Started\n",
    "date: 2023-11-30 \n",
    "authors:\n",
    "  - name: Sébastien Boisgérault\n",
    "    email: Sebastien.Boisgerault@minesparis.psl.eu\n",
    "    url: https://github.com/boisgera\n",
    "    affiliations:\n",
    "      - institution: Mines Paris - PSL University\n",
    "        department: Institut des Transformation Numériques (ITN)\n",
    "github: boisgera\n",
    "license: CC-BY-4.0\n",
    "open_access: true\n",
    "---"
   ]
  },
  {
   "cell_type": "markdown",
   "id": "99eb7623-348a-4873-9200-614c9be5bdb6",
   "metadata": {},
   "source": [
    "![tldraw](images/hello-tldraw.png)    "
   ]
  },
  {
   "cell_type": "markdown",
   "id": "f2cbb2bd-92e6-4c23-95b5-7996e1850533",
   "metadata": {},
   "source": [
    "# A Simple Document"
   ]
  },
  {
   "cell_type": "markdown",
   "id": "c95958ae-0e8e-40b3-9a1a-963745eda44e",
   "metadata": {},
   "source": [
    "```{exercise} Create a \"Hello tldraw!\" document\n",
    "\n",
    " 1. Download the folder of this project on your computer. \n",
    "  \n",
    " 2. Create an tldraw document that contains the text \"Hello tldraw!\" and save it on your computer.\n",
    " \n",
    " 3. Rename your tldraw document `hello-tldraw.tldr` and move it into the `docs` subfolder of the project.\n",
    "```"
   ]
  },
  {
   "cell_type": "markdown",
   "id": "f663cb6a-c804-4438-a6bb-7132a7c86332",
   "metadata": {},
   "source": [
    "Tldraw files are (utf-8-encoded) text files and therefore can be easily inspected. \n",
    "\n",
    "```{exercise} What's the format of tldraw documents?\n",
    "\n",
    "  1. Print the content of your \"Hello tldraw!\" document into this notebook.\n",
    "\n",
    "  2. The tldraw document format is a dialect of a general-purpose structured data format. \n",
    "  \n",
    "     Which one is it? (JSON, XML, CSV? something else?)\n",
    "\n",
    "```\n"
   ]
  },
  {
   "cell_type": "code",
   "execution_count": 3,
   "id": "cc44bc52-f40a-4499-8e29-a1c0a5ccc868",
   "metadata": {},
   "outputs": [
    {
     "name": "stdout",
     "output_type": "stream",
     "text": [
      "{\"tldrawFileFormatVersion\":1,\"schema\":{\"schemaVersion\":1,\"storeVersion\":4,\"recordVersions\":{\"asset\":{\"version\":1,\"subTypeKey\":\"type\",\"subTypeVersions\":{\"image\":2,\"video\":2,\"bookmark\":0}},\"camera\":{\"version\":1},\"document\":{\"version\":2},\"instance\":{\"version\":22},\"instance_page_state\":{\"version\":5},\"page\":{\"version\":1},\"shape\":{\"version\":3,\"subTypeKey\":\"type\",\"subTypeVersions\":{\"group\":0,\"text\":1,\"bookmark\":1,\"draw\":1,\"geo\":7,\"note\":4,\"line\":1,\"frame\":0,\"arrow\":2,\"highlight\":0,\"embed\":4,\"image\":2,\"video\":1}},\"instance_presence\":{\"version\":5},\"pointer\":{\"version\":1}}},\"records\":[{\"gridSize\":10,\"name\":\"\",\"meta\":{},\"id\":\"document:document\",\"typeName\":\"document\"},{\"meta\":{},\"id\":\"page:page\",\"name\":\"Page 1\",\"index\":\"a1\",\"typeName\":\"page\"},{\"followingUserId\":null,\"opacityForNextShape\":1,\"stylesForNextShape\":{\"tldraw:size\":\"xl\"},\"brush\":null,\"scribbles\":[],\"cursor\":{\"type\":\"default\",\"rotation\":0},\"isFocusMode\":false,\"exportBackground\":true,\"isDebugMode\":false,\"isToolLocked\":false,\"screenBounds\":{\"x\":0,\"y\":0,\"w\":1318,\"h\":654},\"zoomBrush\":null,\"isGridMode\":false,\"isPenMode\":false,\"chatMessage\":\"\",\"isChatting\":false,\"highlightedUserIds\":[],\"canMoveCamera\":true,\"isFocused\":true,\"devicePixelRatio\":1,\"isCoarsePointer\":false,\"isHoveringCanvas\":false,\"openMenus\":[\"main menu\",\"main menu menu file\"],\"isChangingStyle\":false,\"isReadonly\":false,\"meta\":{},\"id\":\"instance:instance\",\"currentPageId\":\"page:page\",\"typeName\":\"instance\"},{\"x\":0,\"y\":100,\"z\":1,\"meta\":{},\"id\":\"camera:page:page\",\"typeName\":\"camera\"},{\"editingShapeId\":null,\"croppingShapeId\":null,\"selectedShapeIds\":[],\"hoveredShapeId\":null,\"erasingShapeIds\":[],\"hintingShapeIds\":[],\"focusedGroupId\":null,\"meta\":{},\"id\":\"instance_page_state:page:page\",\"pageId\":\"page:page\",\"typeName\":\"instance_page_state\"},{\"id\":\"pointer:pointer\",\"typeName\":\"pointer\",\"x\":47,\"y\":-57,\"lastActivityTimestamp\":1703779055686,\"meta\":{}},{\"x\":498.15625,\"y\":179.3046875,\"rotation\":0,\"isLocked\":false,\"opacity\":1,\"meta\":{},\"id\":\"shape:mwwpDUGJ4EQv0SMXgMSh5\",\"type\":\"text\",\"props\":{\"color\":\"black\",\"size\":\"xl\",\"w\":329.6875,\"text\":\"Hello TLDRAW!\",\"font\":\"draw\",\"align\":\"middle\",\"autoSize\":true,\"scale\":1},\"parentId\":\"page:page\",\"index\":\"a1\",\"typeName\":\"shape\"}]}\n"
     ]
    }
   ],
   "source": [
    "#1\n",
    "with open('docs/hello-tldraw.tldr', mode=\"r\") as pic:\n",
    "    image = pic.read()\n",
    "    print(image)\n",
    "    \n",
    "#2\n",
    "#JSON, I notice it because of the dictionary format"
   ]
  },
  {
   "cell_type": "markdown",
   "id": "a8f5e1cc-1425-4394-8d73-47640d66d298",
   "metadata": {},
   "source": [
    "\n",
    "```{exercise} Load the document\n",
    ":label: load\n",
    "\n",
    " 1. Find the Python standard library that deals with the file format use by tldraw.\n",
    "\n",
    " 2. Use it to load the tldraw document as a tree-like structure (⚠️ not as a string!).\n",
    "\n",
    " 3. Name this structure `hello`.\n",
    "\n",
    "```"
   ]
  },
  {
   "cell_type": "code",
   "execution_count": 4,
   "id": "07016759-1b9b-474f-9772-7223b4e7e1a0",
   "metadata": {},
   "outputs": [],
   "source": [
    "#1\n",
    "import json"
   ]
  },
  {
   "cell_type": "code",
   "execution_count": 5,
   "id": "663ba260-5bf8-4cb2-915b-ea79326a5575",
   "metadata": {},
   "outputs": [],
   "source": [
    "#2-#3\n",
    "file = open('docs/hello-tldraw.tldr', mode='r')\n",
    "hello = json.loads(file.read())\n",
    "\n",
    "#print(hello)"
   ]
  },
  {
   "cell_type": "markdown",
   "id": "a6ce392d-b8fa-4df2-a5e1-e5c9b81dffc8",
   "metadata": {},
   "source": [
    "# Records & Shapes"
   ]
  },
  {
   "cell_type": "markdown",
   "id": "c30a7788-e59e-42ab-a5da-c43aa1bb0872",
   "metadata": {},
   "source": [
    "```{exercise} Structure\n",
    ":label:\n",
    "\n",
    " 1. Can you locate a list of \"records\" inside `doc`? Name that list `records`.\n",
    "\n",
    " 2. Records all have a type name. Can you list all of them?\n",
    "\n",
    " 3. There should be a single shape among your records. What's it's `type`?\n",
    "\n",
    " 4. Name `hello_text` this record and display it in the notebook\n",
    "\n",
    "```"
   ]
  },
  {
   "cell_type": "code",
   "execution_count": 6,
   "id": "29dd34ce-807e-49e9-a412-d983396f016d",
   "metadata": {},
   "outputs": [
    {
     "name": "stdout",
     "output_type": "stream",
     "text": [
      "dict_keys(['tldrawFileFormatVersion', 'schema', 'records'])\n"
     ]
    }
   ],
   "source": [
    "#1\n",
    "print(hello.keys())"
   ]
  },
  {
   "cell_type": "code",
   "execution_count": 7,
   "id": "14cd83e8-05f2-4618-a6d9-7d1d6e23eb26",
   "metadata": {},
   "outputs": [],
   "source": [
    "records = hello['records']"
   ]
  },
  {
   "cell_type": "code",
   "execution_count": 8,
   "id": "93f0867b-2929-4734-b7e7-0c0d241fa033",
   "metadata": {},
   "outputs": [
    {
     "data": {
      "text/plain": [
       "{'gridSize': 10,\n",
       " 'name': '',\n",
       " 'meta': {},\n",
       " 'id': 'document:document',\n",
       " 'typeName': 'document'}"
      ]
     },
     "execution_count": 8,
     "metadata": {},
     "output_type": "execute_result"
    }
   ],
   "source": [
    "records[0]"
   ]
  },
  {
   "cell_type": "code",
   "execution_count": 11,
   "id": "03e0f564-9e9f-4278-b4f8-6b7498b0976d",
   "metadata": {},
   "outputs": [
    {
     "name": "stdout",
     "output_type": "stream",
     "text": [
      "[{'gridSize': 10, 'name': '', 'meta': {}, 'id': 'document:document', 'typeName': 'document'}, {'meta': {}, 'id': 'page:page', 'name': 'Page 1', 'index': 'a1', 'typeName': 'page'}, {'followingUserId': None, 'opacityForNextShape': 1, 'stylesForNextShape': {'tldraw:size': 'xl'}, 'brush': None, 'scribbles': [], 'cursor': {'type': 'default', 'rotation': 0}, 'isFocusMode': False, 'exportBackground': True, 'isDebugMode': False, 'isToolLocked': False, 'screenBounds': {'x': 0, 'y': 0, 'w': 1318, 'h': 654}, 'zoomBrush': None, 'isGridMode': False, 'isPenMode': False, 'chatMessage': '', 'isChatting': False, 'highlightedUserIds': [], 'canMoveCamera': True, 'isFocused': True, 'devicePixelRatio': 1, 'isCoarsePointer': False, 'isHoveringCanvas': False, 'openMenus': ['main menu', 'main menu menu file'], 'isChangingStyle': False, 'isReadonly': False, 'meta': {}, 'id': 'instance:instance', 'currentPageId': 'page:page', 'typeName': 'instance'}, {'x': 0, 'y': 100, 'z': 1, 'meta': {}, 'id': 'camera:page:page', 'typeName': 'camera'}, {'editingShapeId': None, 'croppingShapeId': None, 'selectedShapeIds': [], 'hoveredShapeId': None, 'erasingShapeIds': [], 'hintingShapeIds': [], 'focusedGroupId': None, 'meta': {}, 'id': 'instance_page_state:page:page', 'pageId': 'page:page', 'typeName': 'instance_page_state'}, {'id': 'pointer:pointer', 'typeName': 'pointer', 'x': 47, 'y': -57, 'lastActivityTimestamp': 1703779055686, 'meta': {}}, {'x': 498.15625, 'y': 179.3046875, 'rotation': 0, 'isLocked': False, 'opacity': 1, 'meta': {}, 'id': 'shape:mwwpDUGJ4EQv0SMXgMSh5', 'type': 'text', 'props': {'color': 'black', 'size': 'xl', 'w': 329.6875, 'text': 'Hello TLDRAW!', 'font': 'draw', 'align': 'middle', 'autoSize': True, 'scale': 1}, 'parentId': 'page:page', 'index': 'a1', 'typeName': 'shape'}]\n",
      "document\n",
      "page\n",
      "instance\n",
      "camera\n",
      "instance_page_state\n",
      "pointer\n",
      "shape\n"
     ]
    }
   ],
   "source": [
    "#2\n",
    "print(records)\n",
    "\n",
    "for i in range(len(records)):\n",
    "    print(records[i]['typeName'])\n",
    "    #print(type(records[i]['typeName']))\n",
    "    #print(type(records[i]))"
   ]
  },
  {
   "cell_type": "code",
   "execution_count": 10,
   "id": "260b7e41-d1de-4dad-9b32-52d617eea7d4",
   "metadata": {},
   "outputs": [],
   "source": [
    "#3\n",
    "#It's type is 'text\", we can find it in the cell above. "
   ]
  },
  {
   "cell_type": "code",
   "execution_count": 12,
   "id": "b5a50f30-3fa3-4f60-b9be-4d869e5f0b9e",
   "metadata": {},
   "outputs": [
    {
     "name": "stdout",
     "output_type": "stream",
     "text": [
      "{'x': 498.15625, 'y': 179.3046875, 'rotation': 0, 'isLocked': False, 'opacity': 1, 'meta': {}, 'id': 'shape:mwwpDUGJ4EQv0SMXgMSh5', 'type': 'text', 'props': {'color': 'black', 'size': 'xl', 'w': 329.6875, 'text': 'Hello TLDRAW!', 'font': 'draw', 'align': 'middle', 'autoSize': True, 'scale': 1}, 'parentId': 'page:page', 'index': 'a1', 'typeName': 'shape'}\n"
     ]
    }
   ],
   "source": [
    "#4\n",
    "hello_text=records[6]\n",
    "print(hello_text)"
   ]
  },
  {
   "cell_type": "markdown",
   "id": "88a29de9-0fb7-4173-8f5e-29377e5e2147",
   "metadata": {},
   "source": [
    "# Edit the Document"
   ]
  },
  {
   "cell_type": "markdown",
   "id": "0e3880a5-049b-4d0a-a4aa-2678eff6406c",
   "metadata": {},
   "source": [
    "```{exercise} Text Content\n",
    "\n",
    "  1. Locate where in the `hello_text` record the text content is located.\n",
    "  \n",
    "  2. Replace \"Hello tldraw!\" with \"Hello Python!\"\n",
    "\n",
    "  3. Save the corresponding document in the directory `docs` as a `hello-python.tldr` file.\n",
    "\n",
    "  4. Load it in the tldraw editor and check that you end up with something similar to the picture below.\n",
    "\n",
    "```"
   ]
  },
  {
   "cell_type": "code",
   "execution_count": null,
   "id": "8b771687-0956-47ec-827d-f325e852a6a5",
   "metadata": {},
   "outputs": [],
   "source": [
    "#1\n",
    "#The text content is located under the key named 'text', which is located under the key 'props'"
   ]
  },
  {
   "cell_type": "code",
   "execution_count": 14,
   "id": "9bc72868-e1ac-433a-93d0-3a66eafeee39",
   "metadata": {},
   "outputs": [
    {
     "name": "stdout",
     "output_type": "stream",
     "text": [
      "dict_keys(['x', 'y', 'rotation', 'isLocked', 'opacity', 'meta', 'id', 'type', 'props', 'parentId', 'index', 'typeName'])\n",
      "dict_keys(['color', 'size', 'w', 'text', 'font', 'align', 'autoSize', 'scale'])\n"
     ]
    }
   ],
   "source": [
    "#2\n",
    "print(hello_text.keys())\n",
    "print(hello_text['props'].keys())"
   ]
  },
  {
   "cell_type": "code",
   "execution_count": 15,
   "id": "bf0a60ab-a146-40ee-a436-0c5f700afe3b",
   "metadata": {},
   "outputs": [
    {
     "data": {
      "text/plain": [
       "'Hello TLDRAW!'"
      ]
     },
     "execution_count": 15,
     "metadata": {},
     "output_type": "execute_result"
    }
   ],
   "source": [
    "hello_text['props']['text']"
   ]
  },
  {
   "cell_type": "code",
   "execution_count": 25,
   "id": "f01c9c45-f96a-4907-a71b-430ec8a7c2b4",
   "metadata": {},
   "outputs": [
    {
     "data": {
      "text/plain": [
       "'Hello Python!'"
      ]
     },
     "execution_count": 25,
     "metadata": {},
     "output_type": "execute_result"
    }
   ],
   "source": [
    "#Modification\n",
    "hello_text['props']['text'] = 'Hello Python!'\n",
    "hello_text['props']['text']"
   ]
  },
  {
   "cell_type": "code",
   "execution_count": 26,
   "id": "3ae151e0-bf72-4293-a790-70ad177f3060",
   "metadata": {},
   "outputs": [
    {
     "name": "stdout",
     "output_type": "stream",
     "text": [
      "{'tldrawFileFormatVersion': 1, 'schema': {'schemaVersion': 1, 'storeVersion': 4, 'recordVersions': {'asset': {'version': 1, 'subTypeKey': 'type', 'subTypeVersions': {'image': 2, 'video': 2, 'bookmark': 0}}, 'camera': {'version': 1}, 'document': {'version': 2}, 'instance': {'version': 22}, 'instance_page_state': {'version': 5}, 'page': {'version': 1}, 'shape': {'version': 3, 'subTypeKey': 'type', 'subTypeVersions': {'group': 0, 'text': 1, 'bookmark': 1, 'draw': 1, 'geo': 7, 'note': 4, 'line': 1, 'frame': 0, 'arrow': 2, 'highlight': 0, 'embed': 4, 'image': 2, 'video': 1}}, 'instance_presence': {'version': 5}, 'pointer': {'version': 1}}}, 'records': [{'gridSize': 10, 'name': '', 'meta': {}, 'id': 'document:document', 'typeName': 'document'}, {'meta': {}, 'id': 'page:page', 'name': 'Page 1', 'index': 'a1', 'typeName': 'page'}, {'followingUserId': None, 'opacityForNextShape': 1, 'stylesForNextShape': {'tldraw:size': 'xl'}, 'brush': None, 'scribbles': [], 'cursor': {'type': 'default', 'rotation': 0}, 'isFocusMode': False, 'exportBackground': True, 'isDebugMode': False, 'isToolLocked': False, 'screenBounds': {'x': 0, 'y': 0, 'w': 1318, 'h': 654}, 'zoomBrush': None, 'isGridMode': False, 'isPenMode': False, 'chatMessage': '', 'isChatting': False, 'highlightedUserIds': [], 'canMoveCamera': True, 'isFocused': True, 'devicePixelRatio': 1, 'isCoarsePointer': False, 'isHoveringCanvas': False, 'openMenus': ['main menu', 'main menu menu file'], 'isChangingStyle': False, 'isReadonly': False, 'meta': {}, 'id': 'instance:instance', 'currentPageId': 'page:page', 'typeName': 'instance'}, {'x': 0, 'y': 100, 'z': 1, 'meta': {}, 'id': 'camera:page:page', 'typeName': 'camera'}, {'editingShapeId': None, 'croppingShapeId': None, 'selectedShapeIds': [], 'hoveredShapeId': None, 'erasingShapeIds': [], 'hintingShapeIds': [], 'focusedGroupId': None, 'meta': {}, 'id': 'instance_page_state:page:page', 'pageId': 'page:page', 'typeName': 'instance_page_state'}, {'id': 'pointer:pointer', 'typeName': 'pointer', 'x': 47, 'y': -57, 'lastActivityTimestamp': 1703779055686, 'meta': {}}, {'x': 498.15625, 'y': 179.3046875, 'rotation': 0, 'isLocked': False, 'opacity': 1, 'meta': {}, 'id': 'shape:mwwpDUGJ4EQv0SMXgMSh5', 'type': 'text', 'props': {'color': 'black', 'size': 'xl', 'w': 329.6875, 'text': 'Hello Python!', 'font': 'draw', 'align': 'middle', 'autoSize': True, 'scale': 1}, 'parentId': 'page:page', 'index': 'a1', 'typeName': 'shape'}]}\n"
     ]
    }
   ],
   "source": [
    "#print(hello)"
   ]
  },
  {
   "cell_type": "code",
   "execution_count": 28,
   "id": "c8417048-430c-45f2-a654-712007e1cfdc",
   "metadata": {},
   "outputs": [],
   "source": [
    "#3\n",
    "file_path = 'docs/hello-python.tldr'\n",
    "with open(file_path, mode='w') as file:\n",
    "    hello_str = json.dumps(hello)\n",
    "    file.write(hello_str)"
   ]
  },
  {
   "cell_type": "code",
   "execution_count": null,
   "id": "1e5fb5a8-fd9b-4f99-a7f2-eb0147c7ed0a",
   "metadata": {},
   "outputs": [],
   "source": [
    "#4\n",
    "#Perfect"
   ]
  },
  {
   "cell_type": "markdown",
   "id": "1f95f445-0b47-4cea-a53b-b8d0a8bed59f",
   "metadata": {},
   "source": [
    "![](images/hello-python.png)"
   ]
  }
 ],
 "metadata": {
  "kernelspec": {
   "display_name": "Python 3 (ipykernel)",
   "language": "python",
   "name": "python3"
  },
  "language_info": {
   "codemirror_mode": {
    "name": "ipython",
    "version": 3
   },
   "file_extension": ".py",
   "mimetype": "text/x-python",
   "name": "python",
   "nbconvert_exporter": "python",
   "pygments_lexer": "ipython3",
   "version": "3.11.5"
  }
 },
 "nbformat": 4,
 "nbformat_minor": 5
}
