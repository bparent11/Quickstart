{
 "cells": [
  {
   "cell_type": "markdown",
   "id": "6afeba13-eb70-47c4-a2b1-7b987782a7a9",
   "metadata": {},
   "source": [
    "---\n",
    "title: Layers\n",
    "date: 2023-12-1 \n",
    "authors:\n",
    "  - name: Sébastien Boisgérault\n",
    "    email: Sebastien.Boisgerault@minesparis.psl.eu\n",
    "    url: https://github.com/boisgera\n",
    "    affiliations:\n",
    "      - institution: Mines Paris - PSL University\n",
    "        department: Institut des Transformation Numériques (ITN)\n",
    "github: boisgera\n",
    "license: CC-BY-4.0\n",
    "open_access: true\n",
    "---"
   ]
  },
  {
   "cell_type": "markdown",
   "id": "08881845-8a6c-4dff-9877-ab61c5d6d41d",
   "metadata": {},
   "source": [
    "# Stack of Cards\n",
    "\n",
    "\n",
    "```{exercise}\n",
    "1. Create a set of filled rectangles with the following sequence of colors: black, violet, blue, orange green and red. \n",
    "2. If necessary, move the rectangles so that they overlap and you can see which one is on top of the other.\n",
    "3. Which one is at the back of the document? Which one is at the top?  \n",
    "```"
   ]
  },
  {
   "cell_type": "markdown",
   "id": "cdb53dff-710c-4543-94df-ad1530f70ec8",
   "metadata": {},
   "source": [
    "![Layers](images/layers.png)"
   ]
  },
  {
   "cell_type": "code",
   "execution_count": 61,
   "id": "a686600a-d4ed-4069-8d61-15effbd5ffe1",
   "metadata": {},
   "outputs": [
    {
     "name": "stdout",
     "output_type": "stream",
     "text": [
      "{'x': 523, 'y': 335, 'rotation': 0, 'isLocked': False, 'opacity': 1, 'meta': {}, 'id': 'shape:BcUIF_cGCXNbwskbU79lo', 'type': 'geo', 'props': {'w': 151, 'h': 143, 'geo': 'rectangle', 'color': 'black', 'labelColor': 'black', 'fill': 'solid', 'dash': 'draw', 'size': 'm', 'font': 'draw', 'text': '', 'align': 'middle', 'verticalAlign': 'middle', 'growY': 0, 'url': ''}, 'parentId': 'page:page', 'index': 'a1', 'typeName': 'shape'}\n",
      "\n",
      "{'x': 523, 'y': 335, 'rotation': 0, 'isLocked': False, 'opacity': 1, 'meta': {}, 'id': 'shape:BcUIF_cGCXNbwskbU79lo', 'type': 'geo', 'props': {'w': 151, 'h': 143, 'geo': 'rectangle', 'color': 'black', 'labelColor': 'black', 'fill': 'solid', 'dash': 'draw', 'size': 'm', 'font': 'draw', 'text': '', 'align': 'middle', 'verticalAlign': 'middle', 'growY': 0, 'url': ''}, 'parentId': 'page:page', 'index': 'a7', 'typeName': 'shape'}\n"
     ]
    }
   ],
   "source": [
    "#1\n",
    "#2\n",
    "#3\n",
    "\n",
    "import json\n",
    "\n",
    "with open('docs/squares.tldr', mode='r') as pic:\n",
    "    file = json.loads(pic.read())\n",
    "    #print(file)\n",
    "    print(file['records'][6]) #we can see the description of all the squares\n",
    "    \n",
    "print()\n",
    "\n",
    "with open('docs/squares_black_in_the_foreground.tldr', mode='rb') as pic2:\n",
    "    file2 = json.loads(pic2.read())\n",
    "    print(file2['records'][6])\n",
    "    #print(file)\n",
    "\n",
    "#We can notice that the question if a shape is at the top or at the back of the document is answered by the key 'index'.\n",
    "#In the pic above, the black square is at the back, the red one is at the top"
   ]
  },
  {
   "cell_type": "markdown",
   "id": "41908045-4a55-4965-b015-ff860fb94096",
   "metadata": {},
   "source": [
    "# The Index\n",
    " "
   ]
  },
  {
   "cell_type": "markdown",
   "id": "c06f49bf-8844-4c94-83c5-c4d6e6056c5b",
   "metadata": {},
   "source": [
    "```{exercise}\n",
    ":label: second\n",
    "1. List the colors of all the shapes in your document, in the order in which they appear. What can you say?\n",
    "2. In Python, edit your document to make the red rectangle appear *before* every other rectangle. \n",
    "Does this change the (relative) depth of this rectangle?\n",
    "3. List again the colors of all the shapes in your document and the corresponding *index*, a string which is an attribute of the shape.\n",
    "4. Compare the lexicographic order between these strings and their depth in the document. What can you say?\n",
    "```\n",
    "\n",
    "````{note} Lexicographic order\n",
    "\n",
    "   When Python strings are compared and sorted, by default the lexicographic order is used.\n",
    "\n",
    "   The lexicographic order generalizes the alphabetical order:\n",
    "\n",
    "   ```\n",
    "   >>> \"alpaca\" < \"guanaco\" < \"lama\" < \"vicuña\"\n",
    "   True\n",
    "   ```\n",
    "\n",
    "   When the first letters are identical, the shorter strings is sorted first:\n",
    "   ```\n",
    "   >>> \"a\" < \"alp\" < \"alpaca\"\n",
    "   True\n",
    "   ```\n",
    "\n",
    "   All uppercase letters come before lowercase letters:\n",
    "   \n",
    "   ```\n",
    "   >>> \"A\" < \"Z\" < \"a\" < \"z\"\n",
    "   ```\n",
    "\n",
    "   and therefore \n",
    "\n",
    "   ```\n",
    "   >>> \"Vicuña\" < \"alpaca\" < \"vicuña\"\n",
    "   True\n",
    "   ```\n",
    "\n",
    "   Digits are ordered \"naturally\":\n",
    "\n",
    "   ```\n",
    "   >>> \"0\" < \"1\" < \"2\" < \"3\" < \"4\" < \"5\" < \"6\" < \"7\" < \"8\" < \"9\"\n",
    "   True\n",
    "   ```\n",
    "\n",
    "   However, beware of the comparison of strings that represent numbers:\n",
    "\n",
    "   ```\n",
    "   >>> \"2\" < \"100\"\n",
    "   False\n",
    "   >>> sorted([\"2\", \"100\"])\n",
    "   ['100', '2']\n",
    "   ```\n",
    "\n",
    "   All digits come before letters:\n",
    "\n",
    "   ```\n",
    "   >>> \"0\" < \"1\" < \"9\" < \"A\" < \"B\" < \"Z\" < \"a\" < \"b\" < \"z\"\n",
    "   True\n",
    "   ```\n",
    "\n",
    "\n",
    "\n",
    "````"
   ]
  },
  {
   "cell_type": "code",
   "execution_count": 48,
   "id": "60bbddaf-3583-4832-8167-d09ae44b6f90",
   "metadata": {},
   "outputs": [
    {
     "name": "stdout",
     "output_type": "stream",
     "text": [
      "['black']\n",
      "['violet']\n",
      "['blue']\n",
      "['orange']\n",
      "['light-green']\n",
      "['red']\n"
     ]
    }
   ],
   "source": [
    "#1\n",
    "#By reading the question I suppose I went to far on the last question (?), not a problem I continue here\n",
    "for i in range(6):\n",
    "    list = []\n",
    "    list.append(file['records'][i+6]['props']['color'])\n",
    "    print(list)"
   ]
  },
  {
   "cell_type": "code",
   "execution_count": null,
   "id": "90010827-e211-4bf5-a333-fe5839980fb3",
   "metadata": {},
   "outputs": [],
   "source": [
    "#I would suppose that the first square that I drew, is the first that appeared in the list, \n",
    "#and the last I drew, is the last appearing."
   ]
  },
  {
   "cell_type": "code",
   "execution_count": null,
   "id": "07cd6c89-0d8f-4516-b7b3-c942db3b0d37",
   "metadata": {},
   "outputs": [],
   "source": [
    "#2\n",
    "#I made it before with the black one, by placing it in the foreground, so it don't modify the order of the list named \"list\",\n",
    "#but it modify the key 'index'"
   ]
  },
  {
   "cell_type": "code",
   "execution_count": 54,
   "id": "3f834709-4592-48c0-a47c-890e7aeb0154",
   "metadata": {},
   "outputs": [
    {
     "name": "stdout",
     "output_type": "stream",
     "text": [
      "{'black': 'a1'}\n",
      "{'violet': 'a2'}\n",
      "{'blue': 'a3'}\n",
      "{'orange': 'a4'}\n",
      "{'light-green': 'a5'}\n",
      "{'red': 'a6'}\n",
      "\n",
      "After modifications :\n",
      "{'black': 'a7'}\n",
      "{'violet': 'a2'}\n",
      "{'blue': 'a3'}\n",
      "{'orange': 'a4'}\n",
      "{'light-green': 'a5'}\n",
      "{'red': 'a6'}\n"
     ]
    }
   ],
   "source": [
    "#3\n",
    "for i in range(6):\n",
    "    color_index = {}\n",
    "    color_index[(file['records'][i+6]['props']['color'])] = (file['records'][i+6]['index'])\n",
    "    print(color_index)\n",
    "print()\n",
    "print('After modifications :')\n",
    "\n",
    "for i in range(6):\n",
    "    color_index2 = {}\n",
    "    color_index2[(file2['records'][i+6]['props']['color'])] = (file2['records'][i+6]['index'])\n",
    "    print(color_index2)"
   ]
  },
  {
   "cell_type": "code",
   "execution_count": 63,
   "id": "0c35098e-4f57-4c9b-bee8-2be538c19c86",
   "metadata": {},
   "outputs": [
    {
     "name": "stdout",
     "output_type": "stream",
     "text": [
      "['a7', 'a2', 'a3', 'a4', 'a5', 'a6']\n",
      "['a2', 'a3', 'a4', 'a5', 'a6', 'a7']\n"
     ]
    }
   ],
   "source": [
    "#4\n",
    "list = []\n",
    "for i in range(6):\n",
    "    list.append(file2['records'][i+6]['index'])\n",
    "print(list)\n",
    "list.sort()\n",
    "print(list)"
   ]
  },
  {
   "cell_type": "code",
   "execution_count": null,
   "id": "d61a90c3-032f-4c59-945c-23e1826b1c58",
   "metadata": {},
   "outputs": [],
   "source": [
    "#We notice that the deeper square, is considered as the smaller for the python language."
   ]
  },
  {
   "cell_type": "markdown",
   "id": "5541ef7f-67f5-48f9-8486-20bfa5b17109",
   "metadata": {},
   "source": [
    "# Fractional Indexing"
   ]
  },
  {
   "cell_type": "markdown",
   "id": "b2aa9801-d18f-4439-bebf-67c1fbe2e5fd",
   "metadata": {},
   "source": [
    "```{exercise}\n",
    "1. In the tldraw editor, insert a yellow rectangle into the document and use \"Actions/Send backward\" repeatedly to put it in a layer between the red and violet rectangles.\n",
    "2. Save this document and load it in Python.  Did the indices of the old rectangles change? \n",
    "3. What is the index of the new rectangle? Is this value consistent with the assumption you made in question 4 of [](#second)?\n",
    "```"
   ]
  },
  {
   "cell_type": "markdown",
   "id": "14735fa1-8341-49a6-95ff-dff0882d38e0",
   "metadata": {},
   "source": [
    "![Yellow rectangle](images/add-yellow.png)"
   ]
  },
  {
   "cell_type": "code",
   "execution_count": 66,
   "id": "411a8c22-321f-4c2a-990f-91cf19910e2f",
   "metadata": {},
   "outputs": [
    {
     "name": "stdout",
     "output_type": "stream",
     "text": [
      "[{'gridSize': 10, 'name': '', 'meta': {}, 'id': 'document:document', 'typeName': 'document'}, {'id': 'pointer:pointer', 'typeName': 'pointer', 'x': 38, 'y': 45, 'lastActivityTimestamp': 1703934806288, 'meta': {}}, {'meta': {}, 'id': 'page:page', 'name': 'Page 1', 'index': 'a1', 'typeName': 'page'}, {'x': 0, 'y': 0, 'z': 1, 'meta': {}, 'id': 'camera:page:page', 'typeName': 'camera'}, {'editingShapeId': None, 'croppingShapeId': None, 'selectedShapeIds': [], 'hoveredShapeId': None, 'erasingShapeIds': [], 'hintingShapeIds': [], 'focusedGroupId': None, 'meta': {}, 'id': 'instance_page_state:page:page', 'pageId': 'page:page', 'typeName': 'instance_page_state'}, {'followingUserId': None, 'opacityForNextShape': 1, 'stylesForNextShape': {'tldraw:fill': 'solid', 'tldraw:geo': 'rectangle', 'tldraw:color': 'yellow'}, 'brush': None, 'scribbles': [], 'cursor': {'type': 'default', 'rotation': 0}, 'isFocusMode': False, 'exportBackground': True, 'isDebugMode': False, 'isToolLocked': False, 'screenBounds': {'x': 0, 'y': 0, 'w': 1318, 'h': 654}, 'zoomBrush': None, 'isGridMode': False, 'isPenMode': False, 'chatMessage': '', 'isChatting': False, 'highlightedUserIds': [], 'canMoveCamera': True, 'isFocused': True, 'devicePixelRatio': 1, 'isCoarsePointer': False, 'isHoveringCanvas': False, 'openMenus': ['main menu', 'main menu menu file'], 'isChangingStyle': False, 'isReadonly': False, 'meta': {}, 'id': 'instance:instance', 'currentPageId': 'page:page', 'typeName': 'instance'}, {'x': 503, 'y': 367, 'rotation': 0, 'isLocked': False, 'opacity': 1, 'meta': {}, 'id': 'shape:BcUIF_cGCXNbwskbU79lo', 'type': 'geo', 'props': {'w': 151, 'h': 143, 'geo': 'rectangle', 'color': 'black', 'labelColor': 'black', 'fill': 'solid', 'dash': 'draw', 'size': 'm', 'font': 'draw', 'text': '', 'align': 'middle', 'verticalAlign': 'middle', 'growY': 0, 'url': ''}, 'parentId': 'page:page', 'index': 'a1', 'typeName': 'shape'}, {'x': 562, 'y': 307, 'rotation': 0, 'isLocked': False, 'opacity': 1, 'meta': {}, 'id': 'shape:ucZATjvkfYuJGf-wD_WTf', 'type': 'geo', 'props': {'w': 150, 'h': 149, 'geo': 'rectangle', 'color': 'violet', 'labelColor': 'black', 'fill': 'solid', 'dash': 'draw', 'size': 'm', 'font': 'draw', 'text': '', 'align': 'middle', 'verticalAlign': 'middle', 'growY': 0, 'url': ''}, 'parentId': 'page:page', 'index': 'a2', 'typeName': 'shape'}, {'x': 610, 'y': 272, 'rotation': 0, 'isLocked': False, 'opacity': 1, 'meta': {}, 'id': 'shape:Rzgy5XyWDZ0ZC01qLaJIL', 'type': 'geo', 'props': {'w': 157, 'h': 159, 'geo': 'rectangle', 'color': 'blue', 'labelColor': 'black', 'fill': 'solid', 'dash': 'draw', 'size': 'm', 'font': 'draw', 'text': '', 'align': 'middle', 'verticalAlign': 'middle', 'growY': 0, 'url': ''}, 'parentId': 'page:page', 'index': 'a3', 'typeName': 'shape'}, {'x': 651, 'y': 238, 'rotation': 0, 'isLocked': False, 'opacity': 1, 'meta': {}, 'id': 'shape:lWmsGbkzJFbQk5DMGeaBf', 'type': 'geo', 'props': {'w': 162, 'h': 167, 'geo': 'rectangle', 'color': 'orange', 'labelColor': 'black', 'fill': 'solid', 'dash': 'draw', 'size': 'm', 'font': 'draw', 'text': '', 'align': 'middle', 'verticalAlign': 'middle', 'growY': 0, 'url': ''}, 'parentId': 'page:page', 'index': 'a4', 'typeName': 'shape'}, {'x': 696, 'y': 210, 'rotation': 0, 'isLocked': False, 'opacity': 1, 'meta': {}, 'id': 'shape:fqbAtBgiW2U6P6ToW8qLF', 'type': 'geo', 'props': {'w': 152, 'h': 161, 'geo': 'rectangle', 'color': 'light-green', 'labelColor': 'black', 'fill': 'solid', 'dash': 'draw', 'size': 'm', 'font': 'draw', 'text': '', 'align': 'middle', 'verticalAlign': 'middle', 'growY': 0, 'url': ''}, 'parentId': 'page:page', 'index': 'a5', 'typeName': 'shape'}, {'x': 739, 'y': 167, 'rotation': 0, 'isLocked': False, 'opacity': 1, 'meta': {}, 'id': 'shape:RTUKYpD7aRKCA_QJvfdps', 'type': 'geo', 'props': {'w': 166, 'h': 177, 'geo': 'rectangle', 'color': 'red', 'labelColor': 'black', 'fill': 'solid', 'dash': 'draw', 'size': 'm', 'font': 'draw', 'text': '', 'align': 'middle', 'verticalAlign': 'middle', 'growY': 0, 'url': ''}, 'parentId': 'page:page', 'index': 'a6', 'typeName': 'shape'}, {'x': 536, 'y': 325, 'rotation': 0, 'isLocked': False, 'opacity': 1, 'meta': {}, 'id': 'shape:wdPmjit51CqcFYTshmjM1', 'type': 'geo', 'props': {'w': 175, 'h': 165, 'geo': 'rectangle', 'color': 'yellow', 'labelColor': 'black', 'fill': 'solid', 'dash': 'draw', 'size': 'm', 'font': 'draw', 'text': '', 'align': 'middle', 'verticalAlign': 'middle', 'growY': 0, 'url': ''}, 'parentId': 'page:page', 'index': 'a1V', 'typeName': 'shape'}]\n"
     ]
    }
   ],
   "source": [
    "#1\n",
    "#2\n",
    "with open('docs/squares_w_yellow.tldr', mode='r') as sqr:\n",
    "    ylw = json.loads(sqr.read())\n",
    "    print(ylw['records'])\n",
    "\n",
    "#The index of the other squares didn't change"
   ]
  },
  {
   "cell_type": "code",
   "execution_count": 70,
   "id": "3ae1589c-a291-4bfa-84ca-1ec2496a2a71",
   "metadata": {},
   "outputs": [
    {
     "name": "stdout",
     "output_type": "stream",
     "text": [
      "The color of the yellow square is a1V\n"
     ]
    }
   ],
   "source": [
    "#3\n",
    "for i in range(7):\n",
    "    if ylw['records'][i+6]['props']['color'] == 'yellow':\n",
    "        print('The color of the yellow square is', ylw['records'][i+6]['index'])\n",
    "    else:\n",
    "        pass"
   ]
  },
  {
   "cell_type": "code",
   "execution_count": null,
   "id": "4cf7c96d-44e8-4cf7-bb57-4e1eab9af0e3",
   "metadata": {},
   "outputs": [],
   "source": [
    "#Yes we can say that, but we understand that the index of the unmoving square are never modified, it is the role of the square moving\n",
    "#to adapt its behaviour in order to be at the right \"depth\" for the Python language."
   ]
  },
  {
   "cell_type": "markdown",
   "id": "2d9ac9b7-0771-4b4d-91ed-ac83d6e7bd77",
   "metadata": {},
   "source": [
    "Tldraw uses a technique called **fractional indexing** to generate new indices that fit between the existing ones.\n",
    "It is explained in details in the [Implementing Fractional Indexing](https://observablehq.com/@dgreensp/implementing-fractional-indexing) Observable (Javascript) notebook.\n",
    "\n",
    "The core idea of this method is to build a representation of indices as fractions in $\\left[0, 1\\right[$ which maps the\n",
    "lexicographic order into the the usual order on $\\mathbb{Q}$, \n",
    "then to solve the generation of intermediate indices in the fractional space since it's much easier there."
   ]
  },
  {
   "cell_type": "markdown",
   "id": "4ca6fd42-4078-4ef7-aee4-c299a0aa63fe",
   "metadata": {},
   "source": [
    "We associate to any string $\\mathtt{s}$ using only the 62 characters `\"0\"`, `\"1\"`, ... `\"9\"`, `\"A\"`, ... `\"Z\"`, `\"a\"`, ..., `\"z\"` as a fraction $\\mathcal{F}(\\mathtt{s}) \\in \\left[0, 1\\right[$ such that:\n",
    "\n",
    "$$\n",
    "\\mathcal{F}(\\mathtt{\"\"}) = 0\n",
    "$$\n",
    "\n",
    "$$\n",
    "\\mathcal{F}(\\mathtt{\"0\"}) = 0, \\; \\mathcal{F}(\\mathtt{\"1\"}) = \\frac{1}{62}, \\; \\dots\n",
    "$$\n",
    "\n",
    "$$\n",
    "\\mathcal{F}(\\mathtt{\"A\"}) = \\frac{10}{62}, \\; \\mathcal{F}(\\mathtt{\"B\"}) = \\frac{11}{62}, \\; \\dots\n",
    "$$\n",
    "$$\n",
    "\\mathcal{F}(\\mathtt{\"a\"}) = \\frac{36}{62}, \\; \\mathcal{F}(\\mathtt{\"b\"}) = \\frac{37}{62},\n",
    "\\; \\mathcal{F}(\\mathtt{\"z\"}) = \\frac{61}{62}.\n",
    "$$\n",
    "\n",
    "and for any character $\\mathtt{c}$ (i.e. string of length 1) and any string $\\mathtt{s}$,\n",
    "\n",
    "$$\n",
    "\\mathcal{F}(\\mathtt{c + s}) = \\mathcal{F}(\\mathtt{c}) + \\frac{\\mathcal{F}(\\mathtt{s})}{62}. \n",
    "$$\n",
    "\n",
    "For example:\n",
    "\n",
    "$$\n",
    "\\mathcal{F}(\\mathtt{\"abc\"})\n",
    "= \\frac{\\mathcal{F}(\\mathtt{\"a\"})}{62} + \\frac{\\mathcal{F}(\\mathtt{\"b\"})}{62^2} + \\frac{\\mathcal{F}(\\mathtt{\"c\"})}{62^3}\n",
    "= \\frac{36}{62} + \\frac{37}{62^2} + \\frac{38}{62^3}\n",
    "= \\frac{35179}{59582}\n",
    "$$\n",
    "    "
   ]
  },
  {
   "cell_type": "markdown",
   "id": "f787a69a-353c-4bcf-9189-38bc1d32ce2f",
   "metadata": {},
   "source": [
    "```{exercise}\n",
    "1. Assume that $\\mathcal{F}(\\mathtt{s1}) = \\mathcal{F}(\\mathtt{s2})$. What does this equality tell you about $\\mathtt{s1}$ and $\\mathtt{s2}$? \n",
    "2. Implement $\\mathcal{F}$ as `F` using the `fractions` module of the Python standard library.\n",
    "3. Make sure that all tests in the cell below pass.\n",
    "```"
   ]
  },
  {
   "cell_type": "code",
   "execution_count": 78,
   "id": "a591f240-5f76-409a-9a60-b0d0c83b38b4",
   "metadata": {},
   "outputs": [],
   "source": [
    "#1\n",
    "#That means that s1 is equal to s2."
   ]
  },
  {
   "cell_type": "code",
   "execution_count": 87,
   "id": "c989ccab-5fce-4d4e-8c93-17c04c0ae915",
   "metadata": {},
   "outputs": [
    {
     "data": {
      "text/plain": [
       "Fraction(0, 1)"
      ]
     },
     "execution_count": 87,
     "metadata": {},
     "output_type": "execute_result"
    }
   ],
   "source": [
    "from fractions import Fraction\n",
    "\n",
    "ENABLE_TESTS = True # ℹ️ Set to True to test F whenever the cell is executed\n",
    "\n",
    "def F(string):\n",
    "\n",
    "    #so as to let us know the index of each char in the base-62\n",
    "    digits = \"0123456789ABCDEFGHIJKLMNOPQRSTUVWXYZabcdefghijklmnopqrstuvwxyz\"\n",
    "\n",
    "    decimal_value = 0\n",
    "    \n",
    "    for char in string:\n",
    "        decimal_value = decimal_value * 62 + digits.index(char)\n",
    "\n",
    "    return Fraction(decimal_value, 62 ** len(string))\n",
    "        \n",
    "    \"\"\"\n",
    "    >>> F(\"\") == Fraction(0, 62)\n",
    "    True\n",
    "    >>> F(\"0\") == Fraction(0, 62)  # ⚠️ Trailing zero!\n",
    "    True\n",
    "    >>> F(\"1\") == Fraction(1, 62)\n",
    "    True\n",
    "    >>> F(\"1000\") == Fraction(1, 62)  # ⚠️ Trailing zeros!\n",
    "    True\n",
    "    >>> F(\"9\") == Fraction(9, 62)\n",
    "    True\n",
    "    >>> F(\"A\") == Fraction(10, 62)\n",
    "    True\n",
    "    >>> F(\"Z\") == Fraction(35, 62)\n",
    "    True\n",
    "    >>> F(\"a\") == Fraction(36, 62)\n",
    "    True\n",
    "    >>> F(\"z\") == Fraction(61, 62)\n",
    "    True\n",
    "    \n",
    "    >>> F(\"a1\") == F(\"a\") + F(\"1\") / 62\n",
    "    True\n",
    "    >>> F(\"a1\")\n",
    "    Fraction(2233, 3844)\n",
    "    >>> F(\"a2\") == F(\"a\") + F(\"2\") / 62\n",
    "    True\n",
    "    >>> F(\"a2\")\n",
    "    Fraction(1117, 1922)\n",
    "    >>> F(\"a3\") == F(\"a\") + F(\"3\") / 62\n",
    "    True\n",
    "    >>> F(\"a3\")\n",
    "    Fraction(2235, 3844)\n",
    "\n",
    "    >>> F(\"abc\") == Fraction(35179, 59582)\n",
    "    True\n",
    "    >>> F(\"aardvark\") == Fraction(32218019837031, 54585026396224)\n",
    "    True\n",
    "    \"\"\"\n",
    "    pass # 🚧 TODO: implement this function\n",
    "\n",
    "if ENABLE_TESTS: \n",
    "    import doctest\n",
    "    doctest.run_docstring_examples(F, globals())\n",
    "    \n",
    "F(\"\")"
   ]
  },
  {
   "cell_type": "markdown",
   "id": "6d92075e-3a67-48af-9e4f-afcfa443a131",
   "metadata": {},
   "source": [
    "```{exercise}\n",
    "1. Implement the inverse of the function $\\mathcal{F}$ (restricted to the strings with no trailing zeros) as a function `iF`.\n",
    "2. Make sure that all tests in the cell below pass.\n",
    "```"
   ]
  },
  {
   "cell_type": "code",
   "execution_count": 91,
   "id": "f51f104d-8625-4f0e-84c4-dcabad713c3b",
   "metadata": {},
   "outputs": [],
   "source": [
    "ENABLE_TESTS = True # ℹ️ Set to True to test F whenever the cell is executed\n",
    "\n",
    "def iF(fraction):\n",
    "\n",
    "    digits = \"0123456789ABCDEFGHIJKLMNOPQRSTUVWXYZabcdefghijklmnopqrstuvwxyz\"\n",
    "    \n",
    "    #We get the numerator and the denominator of the fraction\n",
    "    numerator, denominator = fraction.numerator, fraction.denominator\n",
    "    \n",
    "    #Same method if we pass from the base-10 to base-2, but in our case, we are in base-62\n",
    "    if numerator % denominator == 0:\n",
    "        return digits[numerator // denominator]\n",
    "    \n",
    "    result = ''\n",
    "    \n",
    "    while numerator: #if numerator == 0, numerator = False\n",
    "        numerator, remainder = divmod(numerator, 62) #divmod renvoie le quotient et le reste sous la forme (quotient,reste)\n",
    "        result = digits[remainder] + result\n",
    "    \n",
    "    return result\n",
    "\n",
    "    \n",
    "    \"\"\"\n",
    "    >>> iF(F(\"\")) == \"\"\n",
    "    True\n",
    "    >>> iF(F(\"1\")) == \"1\"\n",
    "    True\n",
    "    >>> iF(F(\"A\")) == \"A\"\n",
    "    True\n",
    "    >>> iF(F(\"a\")) == \"a\"\n",
    "    True\n",
    "    >>> iF(F(\"abc\")) == \"abc\"\n",
    "    True\n",
    "    >>> iF(F(\"aardvark\")) == \"aardvark\"\n",
    "    True\n",
    "    \"\"\"\n",
    "    pass # 🚧 TODO: implement this function\n",
    "\n",
    "if ENABLE_TESTS: \n",
    "    import doctest\n",
    "    doctest.run_docstring_examples(iF, globals())"
   ]
  },
  {
   "cell_type": "markdown",
   "id": "ce370018-0eb4-4797-b7c9-a06b373b988b",
   "metadata": {},
   "source": [
    "```{exercise}\n",
    "1. Prove that if the strings $\\mathtt{s1}$ and $\\mathtt{s2}$ have no trailing zeros (e.g. \"hello\" is ok but not \"hell0\"),\n",
    "then $\\mathtt{s1} \\leq \\mathtt{s2}$ (in the lexicographic order) if and only if $\\mathcal{F}(\\mathtt{s1}) \\leq \\mathcal{F}(\\mathtt{s2})$\n",
    "(in the usual order on $\\mathbb{Q}$).\n",
    "\n",
    "2. Show that for any valid index (with no trailing zero), the formula\n",
    "\n",
    "   $$\n",
    "   \\mathtt{index\\_3} \n",
    "   = \n",
    "   \\mathcal{F}^{-1}\n",
    "   \\left(\n",
    "     \\frac{\n",
    "       \\mathcal{F}(\\mathtt{index\\_1}) + \\mathcal{F}(\\mathtt{index\\_2})\n",
    "     }{2}\n",
    "   \\right)\n",
    "   $$\n",
    "\n",
    "   defines a valid index.\n",
    "\n",
    "3. How are (lexicographically) ordered the strings $\\mathtt{index\\_1}, \\mathtt{index\\_2}$ and $\\mathtt{index\\_3}$?\n",
    "\n",
    "4. Implement a function `index_between` based on this analysis. Make sure that all the tests in the cell below pass.\n",
    "```"
   ]
  },
  {
   "cell_type": "code",
   "execution_count": 6,
   "id": "b3db2ca8-c99c-4961-82ed-a583e207bb8d",
   "metadata": {},
   "outputs": [],
   "source": [
    "ENABLE_TESTS = False # ℹ️ Set to True to test F whenever the cell is executed\n",
    "\n",
    "def index_between(index_1, index_2):\n",
    "    \"\"\"\n",
    "    >>> index_between(\"1\", \"2\")\n",
    "    '1V'\n",
    "    >>> index_between(\"a\", \"b\")\n",
    "    'aV'\n",
    "    >>> index_between(\"aardvark\", \"aardwolf\")\n",
    "    'aardwCohV'\n",
    "    \"\"\"\n",
    "    pass # 🚧 TODO: implement this function\n",
    "    \n",
    "if ENABLE_TESTS:\n",
    "    import doctest\n",
    "    doctest.run_docstring_examples(index_between, globals())"
   ]
  },
  {
   "cell_type": "code",
   "execution_count": null,
   "id": "b451b9c4-993d-4856-8022-305c5e78576f",
   "metadata": {},
   "outputs": [],
   "source": [
    "#1"
   ]
  },
  {
   "cell_type": "code",
   "execution_count": null,
   "id": "8540423b-6703-4e2c-b9e1-4fb995a31bf8",
   "metadata": {},
   "outputs": [],
   "source": [
    "#2"
   ]
  },
  {
   "cell_type": "code",
   "execution_count": 92,
   "id": "df2a9a23-7b4d-42fd-9dd3-847d09eb7c46",
   "metadata": {},
   "outputs": [],
   "source": [
    "#3\n",
    "#Considering that F(s1) <= F(s2) :\n",
    "#index_1 < index_2 < index_3"
   ]
  },
  {
   "cell_type": "code",
   "execution_count": null,
   "id": "517d50eb-78a7-485b-8437-20fd8e5b64d5",
   "metadata": {},
   "outputs": [],
   "source": [
    "#4"
   ]
  },
  {
   "cell_type": "markdown",
   "id": "0cb2553f-6847-427d-8f63-9d805c76e524",
   "metadata": {},
   "source": [
    "# Application\n",
    "\n",
    "```{exercise}\n",
    "1. Go back to your tldraw editor and bring your yellow rectangle to front.\n",
    "2. Save the corresponding document and load it as a Python object.\n",
    "3. Use the `index_between` function to patch its depth so that it goes back between the black and violet rectangles.\n",
    "4. Save the document and reload it into the tldraw editor to check that it worked.\n",
    "```"
   ]
  },
  {
   "cell_type": "markdown",
   "id": "5917af10-0dfc-45da-bcf6-8503395dca7c",
   "metadata": {},
   "source": [
    "\n",
    "![Add yellow on top](images/add-yellow-on-top.png)"
   ]
  }
 ],
 "metadata": {
  "kernelspec": {
   "display_name": "Python 3 (ipykernel)",
   "language": "python",
   "name": "python3"
  },
  "language_info": {
   "codemirror_mode": {
    "name": "ipython",
    "version": 3
   },
   "file_extension": ".py",
   "mimetype": "text/x-python",
   "name": "python",
   "nbconvert_exporter": "python",
   "pygments_lexer": "ipython3",
   "version": "3.11.5"
  }
 },
 "nbformat": 4,
 "nbformat_minor": 5
}
